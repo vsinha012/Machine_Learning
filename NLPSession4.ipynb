{
 "cells": [
  {
   "cell_type": "markdown",
   "metadata": {},
   "source": [
    "## DAY 4 Agenda: \n",
    "### RECAP - DAY3 - MAX 15-20 MINUTES\n",
    "### DAY4\n",
    "#### Continue with Doc2Vec\n",
    "#### Persisit with Feature Engineering\n",
    "####   1. Doc2Vec\n",
    "####   2. PCA: Principal Component Analysis\n",
    "####   3. LDA: Latent Dirichlen Allocation\n",
    "####   4. Topic Modeling\n",
    "####   5. Word Embedding\n",
    "####   6. Hands-on: Search Enginer - 2nd Half\n",
    "####   7. Quiz/Knowledge Check\n",
    "#### Poll before break\n",
    "#### Summarize\n",
    "#### Conclusion"
   ]
  },
  {
   "cell_type": "markdown",
   "metadata": {},
   "source": [
    "### Doc2Vec\n",
    "#### Similar to word2vec, Doc2Vec model\n",
    "####   1. Creates numeric representation of a document\n",
    "####   2. Uses unsupervised algorithm\n",
    "####   3. Finds similarity between sentecnces, paragrpahs, and documents\n",
    "####  Classifier, Average or Concatenate, Paragraph Matrix"
   ]
  },
  {
   "cell_type": "markdown",
   "metadata": {},
   "source": [
    "### Principal Component Analysis\n",
    "#### Features or Dimensions or Independent Variables\n",
    "#### PC1 PC2 PC3: Latent Components of Factors\n",
    "#### Latent Components: Variabes/Features that can be inferred or correlated. \n",
    "#### The objective of PCA is to extract important features and embed them into the model\n",
    "#### If I have a corpus consisting of millions of words.  If you can think of each word as vector then dimensions of the vectors will be large. \n",
    "#### It simplifies the model to make decision. \n",
    "#### PCA can be used for Anamoly Detection, Image Compression, etc. \n",
    "#### For understanding PCA, use the word vector or Eigen Vector or Eigen Value\n",
    "#### What is a Vector?  It has both direction and dimension. \n",
    "#### What is a Scalar?  It has value but no direction.\n",
    "####  1. Standardization: Standardize the range of continuous variables: Bringing all variables to standard representation. \n",
    "####   a. z Score transformation is mean =0 and standard distribution = 1; (value-mean/standard deviation)\n",
    "####  2. Covariance Matrix Computation: Understand how variables vary from mean.  For example: are height and weigth correlated. \n",
    "####    n x n is calculated where n is the number of dimensions\n",
    "####    idea of PCA is to ensure that variables should not be highly correlated\n",
    "####  3. Recasting\n",
    "####     re not correlated between each other.  Alpha can be weight in personality. \n",
    "####  4. Feature Vector\n",
    "####     1000 words, 500 of them do not make sense, therefore, remaining 500 is extracted. \n",
    "####  5. Art of Significance\n",
    "####     Eigenvectors and Eigenvalues Computation\n",
    "####      When you say variables are Orthogonal then they are not correlated. \n",
    "####      PC1 = L1X1 + L2X2 + L3X3 (L as Alpha which is the weight of variable).\n",
    "####       Loadings: Let's say height and weight are dependent variables/correlated together.  So I will combine them to call it Personality.  Height and weight a\n",
    "#### Number of variables = Number of Components if all variables are correlated. \n",
    "#### \n",
    "### Two Dimensional Data Transformation After Apply PCA\n",
    "#### Original Data Set \n",
    "#### Output from PCA\n",
    "#### \n",
    "#### Principal Component Analysis\n",
    "#### Word Analogies\n",
    "####  It is the process to automatically identify topics present in text object.\n",
    "####  It is an unsupervised approach that involves techniques such as: \n",
    "####   a. TF-IDF\n",
    "####   b. Non-Negative Matrix Factorization\n",
    "####   c. Latent Dirichlet Allocation\n",
    "####   d. LSA: Latent Semantic Analysis\n",
    "#### \n",
    "#### Applications include: \n",
    "####  Document Clustering\n",
    "####  Information Retreival\n",
    "#### \n",
    "#### Standard Normal Form (SNF), Mean, Standard Deviation.  \n",
    "#### Standard Deviation CANNOT be negative. Why we say it is negative?  When we say -2 means that it is 2 steps left of the mean.  \n",
    "#### \n",
    "### Latent Dirichlet Allocation\n",
    "#### LDA is a matrix factorization technique\n",
    "#### Documents will be represented as document-term matrix.\n",
    "#### LDA converts document-term matrix into two lower dimensional matrix, M1 and M2.\n",
    "#### M1 is a document-topic matrix. \n",
    "#### M2 is a topic-term matrix. \n",
    "#### For each word w, of each doc d, word assignment is updated till the convergence point. \n",
    "#### \n",
    "#### In a corpus, you can have multiple documents, each document has multiple words, and there are several words which can be associated with some kind of topics.  So Topic is associated with Words. So the objective is that find all words that belong to a topic. \n",
    "#### Find the topic for the words that belong to these documents.  Based on what?  Based on words belonging to the topic. \n",
    "#### \n",
    "### Word Embedding\n",
    "#### Representing words in vector form\n",
    "#### "
   ]
  },
  {
   "cell_type": "markdown",
   "metadata": {},
   "source": [
    "### Levenshtein Approach\n",
    "#### Measure of dissimilar words (highest distance represents more dissimilarity). \n",
    "#### "
   ]
  },
  {
   "cell_type": "markdown",
   "metadata": {},
   "source": [
    "### Build your own search engine\n",
    "\n",
    "#### Objective: Use text feature engineering (TF-IDF) and some rules to make our first search engine for news articles. For any input query, we’ll present the five most relevant news articles. \n",
    "###### \n",
    "####  Problem Statement: Reuters Ltd. is an international news agency headquartered in London and is a division of Thomson Reuters. The data was originally collected and labeled by Carnegie Group Inc. and Reuters Ltd. in the course of developing the construe text categorization system. An important step before assessing similarity between documents, or between documents and a search query, is the right representation i.e., correct feature engineering. We’ll make a process that provides the most similar news articles to a given text string (search query)."
   ]
  },
  {
   "cell_type": "code",
   "execution_count": 1,
   "metadata": {},
   "outputs": [],
   "source": [
    "import pandas as pd\n",
    "import numpy as np\n",
    "import warnings \n",
    "warnings.filterwarnings('ignore')"
   ]
  },
  {
   "cell_type": "code",
   "execution_count": 2,
   "metadata": {},
   "outputs": [],
   "source": [
    "inp_docs= pd.read_table('r8-all-terms.txt', sep=\"\\t\", names=['label', 'text'])"
   ]
  },
  {
   "cell_type": "code",
   "execution_count": 3,
   "metadata": {},
   "outputs": [
    {
     "data": {
      "text/plain": [
       "pandas.core.frame.DataFrame"
      ]
     },
     "execution_count": 3,
     "metadata": {},
     "output_type": "execute_result"
    }
   ],
   "source": [
    "type(inp_docs)"
   ]
  },
  {
   "cell_type": "code",
   "execution_count": 4,
   "metadata": {},
   "outputs": [
    {
     "data": {
      "text/plain": [
       "(5485, 2)"
      ]
     },
     "execution_count": 4,
     "metadata": {},
     "output_type": "execute_result"
    }
   ],
   "source": [
    "inp_docs.shape"
   ]
  },
  {
   "cell_type": "code",
   "execution_count": 5,
   "metadata": {},
   "outputs": [
    {
     "data": {
      "text/plain": [
       "Index(['label', 'text'], dtype='object')"
      ]
     },
     "execution_count": 5,
     "metadata": {},
     "output_type": "execute_result"
    }
   ],
   "source": [
    "inp_docs.columns"
   ]
  },
  {
   "cell_type": "code",
   "execution_count": 6,
   "metadata": {},
   "outputs": [
    {
     "data": {
      "text/html": [
       "<div>\n",
       "<style scoped>\n",
       "    .dataframe tbody tr th:only-of-type {\n",
       "        vertical-align: middle;\n",
       "    }\n",
       "\n",
       "    .dataframe tbody tr th {\n",
       "        vertical-align: top;\n",
       "    }\n",
       "\n",
       "    .dataframe thead th {\n",
       "        text-align: right;\n",
       "    }\n",
       "</style>\n",
       "<table border=\"1\" class=\"dataframe\">\n",
       "  <thead>\n",
       "    <tr style=\"text-align: right;\">\n",
       "      <th></th>\n",
       "      <th>label</th>\n",
       "      <th>text</th>\n",
       "    </tr>\n",
       "  </thead>\n",
       "  <tbody>\n",
       "    <tr>\n",
       "      <th>0</th>\n",
       "      <td>earn</td>\n",
       "      <td>champion products ch approves stock split cham...</td>\n",
       "    </tr>\n",
       "    <tr>\n",
       "      <th>1</th>\n",
       "      <td>acq</td>\n",
       "      <td>computer terminal systems cpml completes sale ...</td>\n",
       "    </tr>\n",
       "    <tr>\n",
       "      <th>2</th>\n",
       "      <td>earn</td>\n",
       "      <td>cobanco inc cbco year net shr cts vs dlrs net ...</td>\n",
       "    </tr>\n",
       "    <tr>\n",
       "      <th>3</th>\n",
       "      <td>earn</td>\n",
       "      <td>am international inc am nd qtr jan oper shr lo...</td>\n",
       "    </tr>\n",
       "    <tr>\n",
       "      <th>4</th>\n",
       "      <td>earn</td>\n",
       "      <td>brown forman inc bfd th qtr net shr one dlr vs...</td>\n",
       "    </tr>\n",
       "  </tbody>\n",
       "</table>\n",
       "</div>"
      ],
      "text/plain": [
       "  label                                               text\n",
       "0  earn  champion products ch approves stock split cham...\n",
       "1   acq  computer terminal systems cpml completes sale ...\n",
       "2  earn  cobanco inc cbco year net shr cts vs dlrs net ...\n",
       "3  earn  am international inc am nd qtr jan oper shr lo...\n",
       "4  earn  brown forman inc bfd th qtr net shr one dlr vs..."
      ]
     },
     "execution_count": 6,
     "metadata": {},
     "output_type": "execute_result"
    }
   ],
   "source": [
    "inp_docs.head()"
   ]
  },
  {
   "cell_type": "code",
   "execution_count": 7,
   "metadata": {},
   "outputs": [
    {
     "data": {
      "text/plain": [
       "earn        2840\n",
       "acq         1596\n",
       "crude        253\n",
       "trade        251\n",
       "money-fx     206\n",
       "interest     190\n",
       "ship         108\n",
       "grain         41\n",
       "Name: label, dtype: int64"
      ]
     },
     "execution_count": 7,
     "metadata": {},
     "output_type": "execute_result"
    }
   ],
   "source": [
    "inp_docs.label.value_counts()"
   ]
  },
  {
   "cell_type": "code",
   "execution_count": 8,
   "metadata": {},
   "outputs": [
    {
     "data": {
      "text/plain": [
       "pandas.core.frame.DataFrame"
      ]
     },
     "execution_count": 8,
     "metadata": {},
     "output_type": "execute_result"
    }
   ],
   "source": [
    "type(inp_docs)"
   ]
  },
  {
   "cell_type": "code",
   "execution_count": 9,
   "metadata": {},
   "outputs": [],
   "source": [
    "articles0=inp_docs.text.values"
   ]
  },
  {
   "cell_type": "code",
   "execution_count": 10,
   "metadata": {},
   "outputs": [
    {
     "data": {
      "text/plain": [
       "5485"
      ]
     },
     "execution_count": 10,
     "metadata": {},
     "output_type": "execute_result"
    }
   ],
   "source": [
    "len(articles0)"
   ]
  },
  {
   "cell_type": "code",
   "execution_count": 11,
   "metadata": {},
   "outputs": [
    {
     "data": {
      "text/plain": [
       "array(['champion products ch approves stock split champion products inc said its board of directors approved a two for one stock split of its common shares for shareholders of record as of april the company also said its board voted to recommend to shareholders at the annual meeting april an increase in the authorized capital stock from five mln to mln shares reuter ',\n",
       "       'computer terminal systems cpml completes sale computer terminal systems inc said it has completed the sale of shares of its common stock and warrants to acquire an additional one mln shares to sedio n v of lugano switzerland for dlrs the company said the warrants are exercisable for five years at a purchase price of dlrs per share computer terminal said sedio also has the right to buy additional shares and increase its total holdings up to pct of the computer terminal s outstanding common stock under certain circumstances involving change of control at the company the company said if the conditions occur the warrants would be exercisable at a price equal to pct of its common stock s market price at the time not to exceed dlrs per share computer terminal also said it sold the technolgy rights to its dot matrix impact technology including any future improvements to woodco inc of houston tex for dlrs but it said it would continue to be the exclusive worldwide licensee of the technology for woodco the company said the moves were part of its reorganization plan and would help pay current operation costs and ensure product delivery computer terminal makes computer generated labels forms tags and ticket printers and terminals reuter ',\n",
       "       'cobanco inc cbco year net shr cts vs dlrs net vs assets mln vs mln deposits mln vs mln loans mln vs mln note th qtr not available year includes extraordinary gain from tax carry forward of dlrs or five cts per shr reuter '],\n",
       "      dtype=object)"
      ]
     },
     "execution_count": 11,
     "metadata": {},
     "output_type": "execute_result"
    }
   ],
   "source": [
    "articles0[:3]"
   ]
  },
  {
   "cell_type": "code",
   "execution_count": 12,
   "metadata": {},
   "outputs": [
    {
     "data": {
      "text/plain": [
       "['champion products ch approves stock split champion products inc said its board of directors approved a two for one stock split of its common shares for shareholders of record as of april the company also said its board voted to recommend to shareholders at the annual meeting april an increase in the authorized capital stock from five mln to mln shares reuter ',\n",
       " 'computer terminal systems cpml completes sale computer terminal systems inc said it has completed the sale of shares of its common stock and warrants to acquire an additional one mln shares to sedio n v of lugano switzerland for dlrs the company said the warrants are exercisable for five years at a purchase price of dlrs per share computer terminal said sedio also has the right to buy additional shares and increase its total holdings up to pct of the computer terminal s outstanding common stock under certain circumstances involving change of control at the company the company said if the conditions occur the warrants would be exercisable at a price equal to pct of its common stock s market price at the time not to exceed dlrs per share computer terminal also said it sold the technolgy rights to its dot matrix impact technology including any future improvements to woodco inc of houston tex for dlrs but it said it would continue to be the exclusive worldwide licensee of the technology for woodco the company said the moves were part of its reorganization plan and would help pay current operation costs and ensure product delivery computer terminal makes computer generated labels forms tags and ticket printers and terminals reuter ',\n",
       " 'cobanco inc cbco year net shr cts vs dlrs net vs assets mln vs mln deposits mln vs mln loans mln vs mln note th qtr not available year includes extraordinary gain from tax carry forward of dlrs or five cts per shr reuter ']"
      ]
     },
     "execution_count": 12,
     "metadata": {},
     "output_type": "execute_result"
    }
   ],
   "source": [
    "articles_lower=[art.lower() for art in articles0]\n",
    "articles_lower[:3]"
   ]
  },
  {
   "cell_type": "code",
   "execution_count": 13,
   "metadata": {},
   "outputs": [],
   "source": [
    "from nltk.tokenize import word_tokenize\n",
    "articles_tokens = [word_tokenize(art) for art in articles_lower]"
   ]
  },
  {
   "cell_type": "raw",
   "metadata": {},
   "source": [
    "print(article_tokens[:3])"
   ]
  },
  {
   "cell_type": "markdown",
   "metadata": {},
   "source": [
    "## Remove Stop Words"
   ]
  },
  {
   "cell_type": "code",
   "execution_count": 14,
   "metadata": {},
   "outputs": [],
   "source": [
    "from nltk.corpus import stopwords\n",
    "stop_nltk = stopwords.words('english')"
   ]
  },
  {
   "cell_type": "code",
   "execution_count": 15,
   "metadata": {},
   "outputs": [],
   "source": [
    "def del_stop(inp_tokens):\n",
    "    res=[term for term in inp_tokens if term not in stop_nltk]\n",
    "    return res"
   ]
  },
  {
   "cell_type": "code",
   "execution_count": 17,
   "metadata": {},
   "outputs": [],
   "source": [
    "articles_nostop = [del_stop(art) for art in articles_tokens]"
   ]
  },
  {
   "cell_type": "code",
   "execution_count": 23,
   "metadata": {},
   "outputs": [],
   "source": [
    "# Joining the tokens\n",
    "from sklearn.feature_extraction.text import TfidfVectorizer\n",
    "vectorizer= TfidfVectorizer(max_features= 3000)"
   ]
  },
  {
   "cell_type": "code",
   "execution_count": 24,
   "metadata": {},
   "outputs": [],
   "source": [
    "articles_string=[' '.join(art) for art in articles_nostop]"
   ]
  },
  {
   "cell_type": "code",
   "execution_count": 25,
   "metadata": {},
   "outputs": [
    {
     "data": {
      "text/plain": [
       "['champion products ch approves stock split champion products inc said board directors approved two one stock split common shares shareholders record april company also said board voted recommend shareholders annual meeting april increase authorized capital stock five mln mln shares reuter',\n",
       " 'computer terminal systems cpml completes sale computer terminal systems inc said completed sale shares common stock warrants acquire additional one mln shares sedio n v lugano switzerland dlrs company said warrants exercisable five years purchase price dlrs per share computer terminal said sedio also right buy additional shares increase total holdings pct computer terminal outstanding common stock certain circumstances involving change control company company said conditions occur warrants would exercisable price equal pct common stock market price time exceed dlrs per share computer terminal also said sold technolgy rights dot matrix impact technology including future improvements woodco inc houston tex dlrs said would continue exclusive worldwide licensee technology woodco company said moves part reorganization plan would help pay current operation costs ensure product delivery computer terminal makes computer generated labels forms tags ticket printers terminals reuter',\n",
       " 'cobanco inc cbco year net shr cts vs dlrs net vs assets mln vs mln deposits mln vs mln loans mln vs mln note th qtr available year includes extraordinary gain tax carry forward dlrs five cts per shr reuter']"
      ]
     },
     "execution_count": 25,
     "metadata": {},
     "output_type": "execute_result"
    }
   ],
   "source": [
    "articles_string[:3]"
   ]
  },
  {
   "cell_type": "code",
   "execution_count": 26,
   "metadata": {},
   "outputs": [],
   "source": [
    "articles_tfidf = vectorizer.fit_transform(articles_string)"
   ]
  },
  {
   "cell_type": "code",
   "execution_count": 27,
   "metadata": {},
   "outputs": [
    {
     "data": {
      "text/plain": [
       "(5485, 3000)"
      ]
     },
     "execution_count": 27,
     "metadata": {},
     "output_type": "execute_result"
    }
   ],
   "source": [
    "articles_tfidf.shape"
   ]
  },
  {
   "cell_type": "code",
   "execution_count": 28,
   "metadata": {},
   "outputs": [
    {
     "name": "stdout",
     "output_type": "stream",
     "text": [
      "  (0, 2347)\t0.03551061016999561\n",
      "  (0, 1732)\t0.11121324113720495\n",
      "  (0, 1098)\t0.10887444246688227\n",
      "  (0, 403)\t0.12883149034753874\n",
      "  (0, 223)\t0.1814784497979311\n",
      "  (0, 1369)\t0.12220623119196396\n",
      "  (0, 1674)\t0.1254536360889861\n",
      "  (0, 141)\t0.1312132309389006\n",
      "  (0, 2218)\t0.20518491916608747\n",
      "  (0, 2896)\t0.20176110137324543\n",
      "  (0, 111)\t0.09252403633185338\n",
      "  (0, 541)\t0.0723960488677366\n",
      "  (0, 172)\t0.18765425025951524\n",
      "  (0, 2222)\t0.0954713311412471\n",
      "  (0, 2486)\t0.23062547990111434\n",
      "  (0, 2487)\t0.18656843267359507\n",
      "  (0, 536)\t0.11125878193312204\n",
      "  (0, 1860)\t0.08666194965486425\n",
      "  (0, 2814)\t0.08968397585016076\n",
      "  (0, 169)\t0.1421226019601831\n",
      "  (0, 795)\t0.15217005018900628\n",
      "  (0, 318)\t0.2253883585324962\n",
      "  (0, 2398)\t0.10204800999113828\n",
      "  (0, 1360)\t0.06371657175047737\n",
      "  (0, 2575)\t0.27085834024685124\n",
      "  :\t:\n",
      "  (5484, 1214)\t0.16862419545674032\n",
      "  (5484, 2780)\t0.05408386473202354\n",
      "  (5484, 648)\t0.06851396680358643\n",
      "  (5484, 1953)\t0.0750968320414041\n",
      "  (5484, 1088)\t0.08427342072996513\n",
      "  (5484, 1851)\t0.12829325728738\n",
      "  (5484, 2421)\t0.07413178173627005\n",
      "  (5484, 831)\t0.08251555418730125\n",
      "  (5484, 643)\t0.05468938392588457\n",
      "  (5484, 1095)\t0.048337098683641715\n",
      "  (5484, 374)\t0.055494201999763376\n",
      "  (5484, 2761)\t0.05099402279097288\n",
      "  (5484, 1797)\t0.1806316351858805\n",
      "  (5484, 422)\t0.05154867553373831\n",
      "  (5484, 296)\t0.08336810361305634\n",
      "  (5484, 26)\t0.15951244331982514\n",
      "  (5484, 1513)\t0.04345609157659684\n",
      "  (5484, 2743)\t0.0652067400850563\n",
      "  (5484, 2984)\t0.02959389796894139\n",
      "  (5484, 2974)\t0.12284624492981434\n",
      "  (5484, 2986)\t0.059246097387709355\n",
      "  (5484, 2347)\t0.015988512610334613\n",
      "  (5484, 111)\t0.04165858357739051\n",
      "  (5484, 2814)\t0.04037985751190536\n",
      "  (5484, 2398)\t0.1148667881790912\n"
     ]
    }
   ],
   "source": [
    "print(articles_tfidf)"
   ]
  },
  {
   "cell_type": "code",
   "execution_count": 29,
   "metadata": {},
   "outputs": [],
   "source": [
    "tfidf_dense = articles_tfidf.todense()"
   ]
  },
  {
   "cell_type": "code",
   "execution_count": 30,
   "metadata": {},
   "outputs": [
    {
     "data": {
      "text/plain": [
       "numpy.matrix"
      ]
     },
     "execution_count": 30,
     "metadata": {},
     "output_type": "execute_result"
    }
   ],
   "source": [
    "type(tfidf_dense)"
   ]
  },
  {
   "cell_type": "code",
   "execution_count": 31,
   "metadata": {},
   "outputs": [
    {
     "data": {
      "text/plain": [
       "(5485, 3000)"
      ]
     },
     "execution_count": 31,
     "metadata": {},
     "output_type": "execute_result"
    }
   ],
   "source": [
    "tfidf_dense.shape"
   ]
  },
  {
   "cell_type": "code",
   "execution_count": null,
   "metadata": {},
   "outputs": [],
   "source": [
    "from sklearn.metrics.pairwise import cosine_similarity\n",
    "cosine_similarity(tfidf_dense[3, :], tfidf"
   ]
  }
 ],
 "metadata": {
  "kernelspec": {
   "display_name": "Python 3",
   "language": "python",
   "name": "python3"
  },
  "language_info": {
   "codemirror_mode": {
    "name": "ipython",
    "version": 3
   },
   "file_extension": ".py",
   "mimetype": "text/x-python",
   "name": "python",
   "nbconvert_exporter": "python",
   "pygments_lexer": "ipython3",
   "version": "3.7.6"
  }
 },
 "nbformat": 4,
 "nbformat_minor": 4
}
