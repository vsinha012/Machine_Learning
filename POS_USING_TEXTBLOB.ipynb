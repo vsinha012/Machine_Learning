{
 "cells": [
  {
   "cell_type": "code",
   "execution_count": 3,
   "id": "a5e5294c",
   "metadata": {
    "ExecuteTime": {
     "end_time": "2023-05-06T17:02:26.385001Z",
     "start_time": "2023-05-06T17:02:26.378981Z"
    }
   },
   "outputs": [],
   "source": [
    "#!pip install textblob\n",
    "from textblob import TextBlob\n",
    "import nltk"
   ]
  },
  {
   "cell_type": "code",
   "execution_count": 4,
   "id": "2dcc7039",
   "metadata": {
    "ExecuteTime": {
     "end_time": "2023-05-06T17:03:18.462269Z",
     "start_time": "2023-05-06T17:03:17.816267Z"
    }
   },
   "outputs": [
    {
     "name": "stderr",
     "output_type": "stream",
     "text": [
      "[nltk_data] Downloading package averaged_perceptron_tagger to\n",
      "[nltk_data]     C:\\Users\\Manju\\AppData\\Roaming\\nltk_data...\n",
      "[nltk_data]   Package averaged_perceptron_tagger is already up-to-\n",
      "[nltk_data]       date!\n"
     ]
    },
    {
     "data": {
      "text/plain": [
       "True"
      ]
     },
     "execution_count": 4,
     "metadata": {},
     "output_type": "execute_result"
    }
   ],
   "source": [
    "nltk.download(\"averaged_perceptron_tagger\")"
   ]
  },
  {
   "cell_type": "code",
   "execution_count": 5,
   "id": "e31658f5",
   "metadata": {
    "ExecuteTime": {
     "end_time": "2023-05-06T17:04:10.453965Z",
     "start_time": "2023-05-06T17:04:10.447426Z"
    }
   },
   "outputs": [],
   "source": [
    "mystr = \"Simplilearn is a good place to learn machine learning\""
   ]
  },
  {
   "cell_type": "code",
   "execution_count": 6,
   "id": "04004a41",
   "metadata": {
    "ExecuteTime": {
     "end_time": "2023-05-06T17:04:40.561766Z",
     "start_time": "2023-05-06T17:04:40.558752Z"
    }
   },
   "outputs": [],
   "source": [
    "op = TextBlob(mystr)"
   ]
  },
  {
   "cell_type": "code",
   "execution_count": 7,
   "id": "d333c51c",
   "metadata": {
    "ExecuteTime": {
     "end_time": "2023-05-06T17:04:43.852601Z",
     "start_time": "2023-05-06T17:04:43.832070Z"
    }
   },
   "outputs": [
    {
     "data": {
      "text/plain": [
       "TextBlob(\"Simplilearn is a good place to learn machine learning\")"
      ]
     },
     "execution_count": 7,
     "metadata": {},
     "output_type": "execute_result"
    }
   ],
   "source": [
    "op"
   ]
  },
  {
   "cell_type": "code",
   "execution_count": 8,
   "id": "19cbedac",
   "metadata": {
    "ExecuteTime": {
     "end_time": "2023-05-06T17:04:57.256177Z",
     "start_time": "2023-05-06T17:04:57.252651Z"
    }
   },
   "outputs": [
    {
     "name": "stdout",
     "output_type": "stream",
     "text": [
      "[('Simplilearn', 'NNP'), ('is', 'VBZ'), ('a', 'DT'), ('good', 'JJ'), ('place', 'NN'), ('to', 'TO'), ('learn', 'VB'), ('machine', 'NN'), ('learning', 'NN')]\n"
     ]
    }
   ],
   "source": [
    "print(op.tags)"
   ]
  },
  {
   "cell_type": "code",
   "execution_count": null,
   "id": "88529c70",
   "metadata": {},
   "outputs": [],
   "source": []
  }
 ],
 "metadata": {
  "kernelspec": {
   "display_name": "Python 3 (ipykernel)",
   "language": "python",
   "name": "python3"
  },
  "language_info": {
   "codemirror_mode": {
    "name": "ipython",
    "version": 3
   },
   "file_extension": ".py",
   "mimetype": "text/x-python",
   "name": "python",
   "nbconvert_exporter": "python",
   "pygments_lexer": "ipython3",
   "version": "3.9.12"
  }
 },
 "nbformat": 4,
 "nbformat_minor": 5
}
