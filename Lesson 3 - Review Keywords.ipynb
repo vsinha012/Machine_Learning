{
 "cells": [
  {
   "cell_type": "code",
   "execution_count": 1,
   "metadata": {
    "ExecuteTime": {
     "end_time": "2023-05-06T17:11:47.086513Z",
     "start_time": "2023-05-06T17:11:46.101080Z"
    }
   },
   "outputs": [],
   "source": [
    "import numpy as np, pandas as pd\n",
    "import re, random, os\n",
    "\n",
    "import nltk\n",
    "from nltk.tokenize import word_tokenize, sent_tokenize"
   ]
  },
  {
   "cell_type": "markdown",
   "metadata": {},
   "source": [
    "### Reading in the reviews data file"
   ]
  },
  {
   "cell_type": "code",
   "execution_count": 2,
   "metadata": {
    "ExecuteTime": {
     "end_time": "2023-05-06T17:11:51.187706Z",
     "start_time": "2023-05-06T17:11:51.143335Z"
    }
   },
   "outputs": [
    {
     "data": {
      "text/html": [
       "<div>\n",
       "<style scoped>\n",
       "    .dataframe tbody tr th:only-of-type {\n",
       "        vertical-align: middle;\n",
       "    }\n",
       "\n",
       "    .dataframe tbody tr th {\n",
       "        vertical-align: top;\n",
       "    }\n",
       "\n",
       "    .dataframe thead th {\n",
       "        text-align: right;\n",
       "    }\n",
       "</style>\n",
       "<table border=\"1\" class=\"dataframe\">\n",
       "  <thead>\n",
       "    <tr style=\"text-align: right;\">\n",
       "      <th></th>\n",
       "      <th>asins</th>\n",
       "      <th>name</th>\n",
       "      <th>reviews.numHelpful</th>\n",
       "      <th>reviews.rating</th>\n",
       "      <th>reviews.text</th>\n",
       "      <th>reviews.title</th>\n",
       "    </tr>\n",
       "  </thead>\n",
       "  <tbody>\n",
       "    <tr>\n",
       "      <th>0</th>\n",
       "      <td>B01BH83OOM</td>\n",
       "      <td>Amazon Tap - Alexa-Enabled Portable Bluetooth ...</td>\n",
       "      <td>806</td>\n",
       "      <td>5</td>\n",
       "      <td>IMPORTANT UPDATE (3/8/17): As you read my orig...</td>\n",
       "      <td>The Echo's Little Sister Is AMAZING!! 3,</td>\n",
       "    </tr>\n",
       "    <tr>\n",
       "      <th>1</th>\n",
       "      <td>B01BH83OOM</td>\n",
       "      <td>Amazon Tap - Alexa-Enabled Portable Bluetooth ...</td>\n",
       "      <td>426</td>\n",
       "      <td>5</td>\n",
       "      <td>It was just a few weeks ago that I was bemoani...</td>\n",
       "      <td>Tap Alexa on the go!</td>\n",
       "    </tr>\n",
       "    <tr>\n",
       "      <th>2</th>\n",
       "      <td>B01BH83OOM</td>\n",
       "      <td>Amazon Tap - Alexa-Enabled Portable Bluetooth ...</td>\n",
       "      <td>295</td>\n",
       "      <td>5</td>\n",
       "      <td>The Amazon Tap is a portable Bluetooth speaker...</td>\n",
       "      <td>Amazon Tap Review - Best Bluetooth Speaker in ...</td>\n",
       "    </tr>\n",
       "    <tr>\n",
       "      <th>3</th>\n",
       "      <td>B01BH83OOM</td>\n",
       "      <td>Amazon Tap - Alexa-Enabled Portable Bluetooth ...</td>\n",
       "      <td>0</td>\n",
       "      <td>5</td>\n",
       "      <td>Look at this product as a portable speaker fir...</td>\n",
       "      <td>Great for what it does</td>\n",
       "    </tr>\n",
       "    <tr>\n",
       "      <th>4</th>\n",
       "      <td>B01BH83OOM</td>\n",
       "      <td>Amazon Tap - Alexa-Enabled Portable Bluetooth ...</td>\n",
       "      <td>3</td>\n",
       "      <td>5</td>\n",
       "      <td>This Amazon tap is not only a great Bluetooth ...</td>\n",
       "      <td>Awesome, smart little portable speaker</td>\n",
       "    </tr>\n",
       "  </tbody>\n",
       "</table>\n",
       "</div>"
      ],
      "text/plain": [
       "        asins                                               name  \\\n",
       "0  B01BH83OOM  Amazon Tap - Alexa-Enabled Portable Bluetooth ...   \n",
       "1  B01BH83OOM  Amazon Tap - Alexa-Enabled Portable Bluetooth ...   \n",
       "2  B01BH83OOM  Amazon Tap - Alexa-Enabled Portable Bluetooth ...   \n",
       "3  B01BH83OOM  Amazon Tap - Alexa-Enabled Portable Bluetooth ...   \n",
       "4  B01BH83OOM  Amazon Tap - Alexa-Enabled Portable Bluetooth ...   \n",
       "\n",
       "   reviews.numHelpful  reviews.rating  \\\n",
       "0                 806               5   \n",
       "1                 426               5   \n",
       "2                 295               5   \n",
       "3                   0               5   \n",
       "4                   3               5   \n",
       "\n",
       "                                        reviews.text  \\\n",
       "0  IMPORTANT UPDATE (3/8/17): As you read my orig...   \n",
       "1  It was just a few weeks ago that I was bemoani...   \n",
       "2  The Amazon Tap is a portable Bluetooth speaker...   \n",
       "3  Look at this product as a portable speaker fir...   \n",
       "4  This Amazon tap is not only a great Bluetooth ...   \n",
       "\n",
       "                                       reviews.title  \n",
       "0           The Echo's Little Sister Is AMAZING!! 3,  \n",
       "1                               Tap Alexa on the go!  \n",
       "2  Amazon Tap Review - Best Bluetooth Speaker in ...  \n",
       "3                             Great for what it does  \n",
       "4             Awesome, smart little portable speaker  "
      ]
     },
     "execution_count": 2,
     "metadata": {},
     "output_type": "execute_result"
    }
   ],
   "source": [
    "inp0 = pd.read_csv('Tap Reviews.csv')\n",
    "inp0.head()"
   ]
  },
  {
   "cell_type": "code",
   "execution_count": 3,
   "metadata": {
    "ExecuteTime": {
     "end_time": "2023-05-06T17:12:17.947680Z",
     "start_time": "2023-05-06T17:12:17.937373Z"
    }
   },
   "outputs": [
    {
     "data": {
      "text/plain": [
       "Index(['asins', 'name', 'reviews.numHelpful', 'reviews.rating', 'reviews.text',\n",
       "       'reviews.title'],\n",
       "      dtype='object')"
      ]
     },
     "execution_count": 3,
     "metadata": {},
     "output_type": "execute_result"
    }
   ],
   "source": [
    "inp0.columns"
   ]
  },
  {
   "cell_type": "markdown",
   "metadata": {},
   "source": [
    "#### This has a lot of extra columns - we are concerned only with the field reviews.text.  \n",
    "#### Store the review text into a list for easy manipulation."
   ]
  },
  {
   "cell_type": "code",
   "execution_count": 4,
   "metadata": {
    "ExecuteTime": {
     "end_time": "2023-05-06T17:12:40.409991Z",
     "start_time": "2023-05-06T17:12:40.400746Z"
    }
   },
   "outputs": [],
   "source": [
    "reviews0 = inp0['reviews.text'].values"
   ]
  },
  {
   "cell_type": "code",
   "execution_count": 5,
   "metadata": {
    "ExecuteTime": {
     "end_time": "2023-05-06T17:12:42.550325Z",
     "start_time": "2023-05-06T17:12:42.545786Z"
    }
   },
   "outputs": [
    {
     "data": {
      "text/plain": [
       "542"
      ]
     },
     "execution_count": 5,
     "metadata": {},
     "output_type": "execute_result"
    }
   ],
   "source": [
    "len(reviews0)"
   ]
  },
  {
   "cell_type": "code",
   "execution_count": 6,
   "metadata": {
    "ExecuteTime": {
     "end_time": "2023-05-06T17:13:17.564826Z",
     "start_time": "2023-05-06T17:13:17.557306Z"
    }
   },
   "outputs": [
    {
     "data": {
      "text/plain": [
       "numpy.ndarray"
      ]
     },
     "execution_count": 6,
     "metadata": {},
     "output_type": "execute_result"
    }
   ],
   "source": [
    "type(reviews0)"
   ]
  },
  {
   "cell_type": "code",
   "execution_count": 7,
   "metadata": {
    "ExecuteTime": {
     "end_time": "2023-05-06T17:13:22.020180Z",
     "start_time": "2023-05-06T17:13:22.004151Z"
    },
    "scrolled": true
   },
   "outputs": [
    {
     "data": {
      "text/plain": [
       "'Look at this product as a portable speaker first and an Echo replacement second. The big reason to buy this over standard Bluetooth speakers is this has WiFi streaming enabled. When you are at home you can stream music with ease to it. Voice recognition is top notch and it really shines when using it with other smart home accessories. The only problem is having to tap the microphone button for it to listen to your voice. If you want bigger sound and always listening features, spend the extra money on the Amazon Echo.'"
      ]
     },
     "execution_count": 7,
     "metadata": {},
     "output_type": "execute_result"
    }
   ],
   "source": [
    "reviews0[3]"
   ]
  },
  {
   "cell_type": "markdown",
   "metadata": {},
   "source": [
    "#### We can see that each review has multiple sentences.  \n",
    "#### For any Part of Speech tagger to work effectively, we need to separate the sentences.\n",
    "- We'll need to use sent_tokenize to separate the sentences, then use word_tokenize to tokenize each resulting sentence into constituent words\n",
    "- Let's first do this for a single sentence, and then make a function"
   ]
  },
  {
   "cell_type": "code",
   "execution_count": 8,
   "metadata": {
    "ExecuteTime": {
     "end_time": "2023-05-06T17:14:35.884507Z",
     "start_time": "2023-05-06T17:14:35.871985Z"
    }
   },
   "outputs": [],
   "source": [
    "from nltk.tokenize import word_tokenize, sent_tokenize"
   ]
  },
  {
   "cell_type": "code",
   "execution_count": 9,
   "metadata": {
    "ExecuteTime": {
     "end_time": "2023-05-06T17:14:49.263183Z",
     "start_time": "2023-05-06T17:14:49.240384Z"
    }
   },
   "outputs": [
    {
     "data": {
      "text/plain": [
       "['Look at this product as a portable speaker first and an Echo replacement second.',\n",
       " 'The big reason to buy this over standard Bluetooth speakers is this has WiFi streaming enabled.',\n",
       " 'When you are at home you can stream music with ease to it.',\n",
       " 'Voice recognition is top notch and it really shines when using it with other smart home accessories.',\n",
       " 'The only problem is having to tap the microphone button for it to listen to your voice.',\n",
       " 'If you want bigger sound and always listening features, spend the extra money on the Amazon Echo.']"
      ]
     },
     "execution_count": 9,
     "metadata": {},
     "output_type": "execute_result"
    }
   ],
   "source": [
    "sent_tokenize(reviews0[3])"
   ]
  },
  {
   "cell_type": "markdown",
   "metadata": {},
   "source": [
    "Doing this for all the reviews"
   ]
  },
  {
   "cell_type": "code",
   "execution_count": 10,
   "metadata": {
    "ExecuteTime": {
     "end_time": "2023-05-06T17:15:58.706423Z",
     "start_time": "2023-05-06T17:15:58.667105Z"
    }
   },
   "outputs": [],
   "source": [
    "review_sents = [sent_tokenize(sent) for sent in reviews0]"
   ]
  },
  {
   "cell_type": "code",
   "execution_count": 11,
   "metadata": {
    "ExecuteTime": {
     "end_time": "2023-05-06T17:16:00.629873Z",
     "start_time": "2023-05-06T17:16:00.624679Z"
    }
   },
   "outputs": [
    {
     "data": {
      "text/plain": [
       "542"
      ]
     },
     "execution_count": 11,
     "metadata": {},
     "output_type": "execute_result"
    }
   ],
   "source": [
    "len(review_sents)"
   ]
  },
  {
   "cell_type": "code",
   "execution_count": 13,
   "metadata": {
    "ExecuteTime": {
     "end_time": "2023-05-06T17:16:20.645556Z",
     "start_time": "2023-05-06T17:16:20.627500Z"
    }
   },
   "outputs": [
    {
     "data": {
      "text/plain": [
       "['I have owned the Echo for about a year now and enjoy the features it provides.',\n",
       " \"Although the Tap doesn't have the hands free feature of the Echo I like its portability.\",\n",
       " \"I'm able to take it outdoors at home and using the WiFi play music or even use the other features available by just asking Alexa.\",\n",
       " 'The unit is well built and I really like the charging cradle provided.']"
      ]
     },
     "execution_count": 13,
     "metadata": {},
     "output_type": "execute_result"
    }
   ],
   "source": [
    "review_sents[7]"
   ]
  },
  {
   "cell_type": "code",
   "execution_count": 14,
   "metadata": {
    "ExecuteTime": {
     "end_time": "2023-05-06T17:16:56.222713Z",
     "start_time": "2023-05-06T17:16:56.217195Z"
    }
   },
   "outputs": [
    {
     "data": {
      "text/plain": [
       "'The Amazon Tap is a portable Bluetooth speaker that can be controlled with your voice.'"
      ]
     },
     "execution_count": 14,
     "metadata": {},
     "output_type": "execute_result"
    }
   ],
   "source": [
    "review_sents[2][0]"
   ]
  },
  {
   "cell_type": "markdown",
   "metadata": {},
   "source": [
    "##### Each sentence has been broken into constituent sentences. We need to further break into individual words."
   ]
  },
  {
   "cell_type": "markdown",
   "metadata": {},
   "source": [
    "For a single sentence - "
   ]
  },
  {
   "cell_type": "code",
   "execution_count": 15,
   "metadata": {
    "ExecuteTime": {
     "end_time": "2023-05-06T17:17:19.070282Z",
     "start_time": "2023-05-06T17:17:19.058210Z"
    }
   },
   "outputs": [
    {
     "data": {
      "text/plain": [
       "['The',\n",
       " 'Amazon',\n",
       " 'Tap',\n",
       " 'is',\n",
       " 'a',\n",
       " 'portable',\n",
       " 'Bluetooth',\n",
       " 'speaker',\n",
       " 'that',\n",
       " 'can',\n",
       " 'be',\n",
       " 'controlled',\n",
       " 'with',\n",
       " 'your',\n",
       " 'voice',\n",
       " '.']"
      ]
     },
     "execution_count": 15,
     "metadata": {},
     "output_type": "execute_result"
    }
   ],
   "source": [
    "word_tokenize(review_sents[2][0])"
   ]
  },
  {
   "cell_type": "markdown",
   "metadata": {},
   "source": [
    "#### Let's create a new list that contains all the tokenized sentences"
   ]
  },
  {
   "cell_type": "code",
   "execution_count": 16,
   "metadata": {
    "ExecuteTime": {
     "end_time": "2023-05-06T17:18:21.105481Z",
     "start_time": "2023-05-06T17:18:21.087441Z"
    }
   },
   "outputs": [],
   "source": [
    "# Creating an empty list\n",
    "reviews_tokens = []"
   ]
  },
  {
   "cell_type": "code",
   "execution_count": 17,
   "metadata": {
    "ExecuteTime": {
     "end_time": "2023-05-06T17:18:28.016318Z",
     "start_time": "2023-05-06T17:18:27.876972Z"
    }
   },
   "outputs": [],
   "source": [
    "for review in review_sents:\n",
    "    for sent in review:\n",
    "        reviews_tokens.append(word_tokenize(sent))"
   ]
  },
  {
   "cell_type": "code",
   "execution_count": 18,
   "metadata": {
    "ExecuteTime": {
     "end_time": "2023-05-06T17:18:30.991481Z",
     "start_time": "2023-05-06T17:18:30.983399Z"
    }
   },
   "outputs": [
    {
     "data": {
      "text/plain": [
       "1627"
      ]
     },
     "execution_count": 18,
     "metadata": {},
     "output_type": "execute_result"
    }
   ],
   "source": [
    "len(reviews_tokens)"
   ]
  },
  {
   "cell_type": "code",
   "execution_count": 19,
   "metadata": {
    "ExecuteTime": {
     "end_time": "2023-05-06T17:19:13.560132Z",
     "start_time": "2023-05-06T17:19:13.551616Z"
    }
   },
   "outputs": [
    {
     "data": {
      "text/plain": [
       "['This',\n",
       " 'is',\n",
       " 'a',\n",
       " 'fabulous',\n",
       " 'development',\n",
       " 'and',\n",
       " 'something',\n",
       " 'Tap',\n",
       " 'owners',\n",
       " 'have',\n",
       " 'been',\n",
       " 'hoping',\n",
       " 'for',\n",
       " '.']"
      ]
     },
     "execution_count": 19,
     "metadata": {},
     "output_type": "execute_result"
    }
   ],
   "source": [
    "reviews_tokens[2]"
   ]
  },
  {
   "cell_type": "markdown",
   "metadata": {},
   "source": [
    "We have 1627 sentences in the list, each is a list of tokens."
   ]
  },
  {
   "cell_type": "markdown",
   "metadata": {},
   "source": [
    "#### We have one large list with all the sentences separate.\n",
    "\n",
    "### We now need to perform POS tagging for each sentence"
   ]
  },
  {
   "cell_type": "code",
   "execution_count": 20,
   "metadata": {
    "ExecuteTime": {
     "end_time": "2023-05-06T17:19:27.262601Z",
     "start_time": "2023-05-06T17:19:27.174373Z"
    }
   },
   "outputs": [
    {
     "data": {
      "text/plain": [
       "[('This', 'DT'),\n",
       " ('is', 'VBZ'),\n",
       " ('a', 'DT'),\n",
       " ('fabulous', 'JJ'),\n",
       " ('development', 'NN'),\n",
       " ('and', 'CC'),\n",
       " ('something', 'NN'),\n",
       " ('Tap', 'NNP'),\n",
       " ('owners', 'NNS'),\n",
       " ('have', 'VBP'),\n",
       " ('been', 'VBN'),\n",
       " ('hoping', 'VBG'),\n",
       " ('for', 'IN'),\n",
       " ('.', '.')]"
      ]
     },
     "execution_count": 20,
     "metadata": {},
     "output_type": "execute_result"
    }
   ],
   "source": [
    "nltk.pos_tag(reviews_tokens[2])"
   ]
  },
  {
   "cell_type": "code",
   "execution_count": 21,
   "metadata": {
    "ExecuteTime": {
     "end_time": "2023-05-06T17:20:26.227659Z",
     "start_time": "2023-05-06T17:20:26.209783Z"
    }
   },
   "outputs": [],
   "source": [
    "# Empty list for POS tagged sentences\n",
    "reviews_pos = []"
   ]
  },
  {
   "cell_type": "code",
   "execution_count": 22,
   "metadata": {
    "ExecuteTime": {
     "end_time": "2023-05-06T17:20:29.721563Z",
     "start_time": "2023-05-06T17:20:28.474170Z"
    }
   },
   "outputs": [],
   "source": [
    "for sent in reviews_tokens:\n",
    "    reviews_pos.append(nltk.pos_tag(sent))"
   ]
  },
  {
   "cell_type": "code",
   "execution_count": 23,
   "metadata": {
    "ExecuteTime": {
     "end_time": "2023-05-06T17:20:30.600544Z",
     "start_time": "2023-05-06T17:20:30.584890Z"
    }
   },
   "outputs": [
    {
     "data": {
      "text/plain": [
       "1627"
      ]
     },
     "execution_count": 23,
     "metadata": {},
     "output_type": "execute_result"
    }
   ],
   "source": [
    "len(reviews_pos)"
   ]
  },
  {
   "cell_type": "code",
   "execution_count": 25,
   "metadata": {
    "ExecuteTime": {
     "end_time": "2023-05-06T17:20:50.440670Z",
     "start_time": "2023-05-06T17:20:50.424225Z"
    }
   },
   "outputs": [
    {
     "data": {
      "text/plain": [
       "[('But', 'CC'),\n",
       " ('I', 'PRP'),\n",
       " ('decided', 'VBD'),\n",
       " ('to', 'TO'),\n",
       " ('buy', 'VB'),\n",
       " ('one', 'CD'),\n",
       " ('anyway', 'NN'),\n",
       " (',', ','),\n",
       " ('thinking', 'VBG'),\n",
       " ('that', 'IN'),\n",
       " ('if', 'IN'),\n",
       " ('I', 'PRP'),\n",
       " ('did', 'VBD'),\n",
       " (\"n't\", 'RB'),\n",
       " ('like', 'IN'),\n",
       " ('it', 'PRP'),\n",
       " ('I', 'PRP'),\n",
       " ('could', 'MD'),\n",
       " ('easily', 'RB'),\n",
       " ('sell', 'VB'),\n",
       " ('it', 'PRP'),\n",
       " ('.', '.')]"
      ]
     },
     "execution_count": 25,
     "metadata": {},
     "output_type": "execute_result"
    }
   ],
   "source": [
    "reviews_pos[6]"
   ]
  },
  {
   "cell_type": "markdown",
   "metadata": {},
   "source": [
    "##### Cool, all the sentences from all the reviews have been POS tagged.\n",
    "\n",
    "### We are interested in the Nouns."
   ]
  },
  {
   "cell_type": "markdown",
   "metadata": {},
   "source": [
    "Extracting noun for a single tagged sentence.\n",
    " - All noun POS tags begin with NN"
   ]
  },
  {
   "cell_type": "code",
   "execution_count": 26,
   "metadata": {
    "ExecuteTime": {
     "end_time": "2023-05-06T17:21:41.415278Z",
     "start_time": "2023-05-06T17:21:41.403759Z"
    }
   },
   "outputs": [
    {
     "data": {
      "text/plain": [
       "['tap',\n",
       " 'mode',\n",
       " 'Alexa',\n",
       " 'app',\n",
       " 'Tap',\n",
       " 'battery',\n",
       " 'life',\n",
       " 'convenience.',\n",
       " 'Amazon',\n",
       " 'Echo',\n",
       " 'device']"
      ]
     },
     "execution_count": 26,
     "metadata": {},
     "output_type": "execute_result"
    }
   ],
   "source": [
    "[term for term, pos in reviews_pos[5] if pos.startswith(\"NN\")]"
   ]
  },
  {
   "cell_type": "markdown",
   "metadata": {},
   "source": [
    "##### We want to make a big list of all the nouns. We'll then count their occurrence to see which of these are most important."
   ]
  },
  {
   "cell_type": "code",
   "execution_count": 27,
   "metadata": {
    "ExecuteTime": {
     "end_time": "2023-05-06T17:22:30.205299Z",
     "start_time": "2023-05-06T17:22:30.196789Z"
    }
   },
   "outputs": [
    {
     "data": {
      "text/plain": [
       "[('But', 'CC'),\n",
       " ('since', 'IN'),\n",
       " ('you', 'PRP'),\n",
       " ('can', 'MD'),\n",
       " ('easily', 'RB'),\n",
       " ('toggle', 'VB'),\n",
       " ('between', 'IN'),\n",
       " ('hands-free', 'JJ'),\n",
       " ('or', 'CC'),\n",
       " ('regular', 'JJ'),\n",
       " ('tap', 'NN'),\n",
       " ('mode', 'NN'),\n",
       " ('using', 'VBG'),\n",
       " ('the', 'DT'),\n",
       " ('Alexa', 'NNP'),\n",
       " ('app', 'NN'),\n",
       " (',', ','),\n",
       " ('you', 'PRP'),\n",
       " ('can', 'MD'),\n",
       " ('pick', 'VB'),\n",
       " ('and', 'CC'),\n",
       " ('choose', 'VB'),\n",
       " ('how', 'WRB'),\n",
       " ('you', 'PRP'),\n",
       " ('want', 'VBP'),\n",
       " ('to', 'TO'),\n",
       " ('use', 'VB'),\n",
       " ('your', 'PRP$'),\n",
       " ('Tap', 'NNP'),\n",
       " ('for', 'IN'),\n",
       " ('maximum', 'JJ'),\n",
       " ('battery', 'NN'),\n",
       " ('life', 'NN'),\n",
       " ('and', 'CC'),\n",
       " ('convenience.', 'NN'),\n",
       " ('--', ':'),\n",
       " ('--', ':'),\n",
       " ('--', ':'),\n",
       " ('--', ':'),\n",
       " ('--', ':'),\n",
       " ('--', ':'),\n",
       " ('--', ':'),\n",
       " ('--', ':'),\n",
       " ('--', ':'),\n",
       " ('--', ':'),\n",
       " ('--', ':'),\n",
       " ('--', ':'),\n",
       " ('-I', 'JJ'),\n",
       " ('admit', 'VBP'),\n",
       " ('that', 'IN'),\n",
       " ('I', 'PRP'),\n",
       " ('was', 'VBD'),\n",
       " ('a', 'DT'),\n",
       " ('little', 'JJ'),\n",
       " ('skeptical', 'JJ'),\n",
       " ('when', 'WRB'),\n",
       " ('Amazon', 'NNP'),\n",
       " ('first', 'RB'),\n",
       " ('introduced', 'VBD'),\n",
       " ('its', 'PRP$'),\n",
       " ('Echo', 'NNP'),\n",
       " ('device', 'NN'),\n",
       " ('.', '.')]"
      ]
     },
     "execution_count": 27,
     "metadata": {},
     "output_type": "execute_result"
    }
   ],
   "source": [
    "reviews_pos[5]"
   ]
  },
  {
   "cell_type": "code",
   "execution_count": 29,
   "metadata": {
    "ExecuteTime": {
     "end_time": "2023-05-06T17:22:50.064300Z",
     "start_time": "2023-05-06T17:22:50.060296Z"
    }
   },
   "outputs": [],
   "source": [
    "# Creating the empty list\n",
    "all_nouns = []\n"
   ]
  },
  {
   "cell_type": "code",
   "execution_count": 30,
   "metadata": {
    "ExecuteTime": {
     "end_time": "2023-05-06T17:22:52.120936Z",
     "start_time": "2023-05-06T17:22:52.113417Z"
    }
   },
   "outputs": [],
   "source": [
    "for sent in reviews_pos:\n",
    "    res = [term for term, pos in sent if pos.startswith(\"NN\")]\n",
    "    all_nouns.extend(res)"
   ]
  },
  {
   "cell_type": "code",
   "execution_count": 31,
   "metadata": {
    "ExecuteTime": {
     "end_time": "2023-05-06T17:22:54.931615Z",
     "start_time": "2023-05-06T17:22:54.920079Z"
    }
   },
   "outputs": [
    {
     "data": {
      "text/plain": [
       "4935"
      ]
     },
     "execution_count": 31,
     "metadata": {},
     "output_type": "execute_result"
    }
   ],
   "source": [
    "len(all_nouns)"
   ]
  },
  {
   "cell_type": "code",
   "execution_count": 32,
   "metadata": {
    "ExecuteTime": {
     "end_time": "2023-05-06T17:23:06.432623Z",
     "start_time": "2023-05-06T17:23:06.427090Z"
    },
    "scrolled": true
   },
   "outputs": [
    {
     "name": "stdout",
     "output_type": "stream",
     "text": [
      "['Amazon', 'Echo', 'device', 'anyway', 'days', 'Echo', 'demand', 'risk', 'Today', 'music', 'listener', 'Echo', 'try.I', 'device', 'music', 'kitchen', 'Echos', 'voice', 'control', 'question', 'Echo.Read', 'weeks', 'fact', 'Echo', 'year', 'price', 'voice', 'remote', 'year', 'device', 'year', 'game', 'Echo', 'Tap', 'things', 'Echo', 'Alexa', 'devices', 'try.I', 'years', 'home', 'combination', 'Smartthings', 'IFTTT', 'Logitech', 'Harmony', 'home', 'Alexa', 'middle', 'ability']\n"
     ]
    }
   ],
   "source": [
    "print(all_nouns[50:100])"
   ]
  },
  {
   "cell_type": "markdown",
   "metadata": {},
   "source": [
    "### Looks like we need to do a little clean up - \n",
    "- normalize case\n",
    "- remove stop words\n",
    "- remove contextual stop words"
   ]
  },
  {
   "cell_type": "markdown",
   "metadata": {},
   "source": [
    "Getting stop word list - "
   ]
  },
  {
   "cell_type": "code",
   "execution_count": 33,
   "metadata": {
    "ExecuteTime": {
     "end_time": "2023-05-06T17:23:57.853073Z",
     "start_time": "2023-05-06T17:23:57.841545Z"
    }
   },
   "outputs": [],
   "source": [
    "from nltk.corpus import stopwords\n",
    "from string import punctuation"
   ]
  },
  {
   "cell_type": "code",
   "execution_count": 34,
   "metadata": {
    "ExecuteTime": {
     "end_time": "2023-05-06T17:24:02.012945Z",
     "start_time": "2023-05-06T17:24:01.997304Z"
    }
   },
   "outputs": [
    {
     "data": {
      "text/plain": [
       "211"
      ]
     },
     "execution_count": 34,
     "metadata": {},
     "output_type": "execute_result"
    }
   ],
   "source": [
    "stop_nltk = stopwords.words(\"english\")\n",
    "stop_punct = list(punctuation)\n",
    "stop_final = stop_nltk + stop_punct\n",
    "len(stop_final)"
   ]
  },
  {
   "cell_type": "markdown",
   "metadata": {},
   "source": [
    "Lowering case and removing stop words in one statement"
   ]
  },
  {
   "cell_type": "code",
   "execution_count": 35,
   "metadata": {
    "ExecuteTime": {
     "end_time": "2023-05-06T17:24:30.584130Z",
     "start_time": "2023-05-06T17:24:30.568274Z"
    }
   },
   "outputs": [
    {
     "data": {
      "text/plain": [
       "'owners'"
      ]
     },
     "execution_count": 35,
     "metadata": {},
     "output_type": "execute_result"
    }
   ],
   "source": [
    "all_nouns[10]"
   ]
  },
  {
   "cell_type": "code",
   "execution_count": 36,
   "metadata": {
    "ExecuteTime": {
     "end_time": "2023-05-06T17:24:41.024399Z",
     "start_time": "2023-05-06T17:24:41.005214Z"
    }
   },
   "outputs": [
    {
     "data": {
      "text/plain": [
       "4935"
      ]
     },
     "execution_count": 36,
     "metadata": {},
     "output_type": "execute_result"
    }
   ],
   "source": [
    "len(all_nouns)"
   ]
  },
  {
   "cell_type": "code",
   "execution_count": 37,
   "metadata": {
    "ExecuteTime": {
     "end_time": "2023-05-06T17:24:59.349938Z",
     "start_time": "2023-05-06T17:24:59.332201Z"
    }
   },
   "outputs": [],
   "source": [
    "all_nouns_clean = [term.lower() for term in all_nouns if term.lower() not in stop_final]"
   ]
  },
  {
   "cell_type": "code",
   "execution_count": 38,
   "metadata": {
    "ExecuteTime": {
     "end_time": "2023-05-06T17:25:02.425245Z",
     "start_time": "2023-05-06T17:25:02.416702Z"
    }
   },
   "outputs": [
    {
     "data": {
      "text/plain": [
       "4864"
      ]
     },
     "execution_count": 38,
     "metadata": {},
     "output_type": "execute_result"
    }
   ],
   "source": [
    "len(all_nouns_clean)"
   ]
  },
  {
   "cell_type": "code",
   "execution_count": 39,
   "metadata": {
    "ExecuteTime": {
     "end_time": "2023-05-06T17:25:10.172561Z",
     "start_time": "2023-05-06T17:25:10.163512Z"
    }
   },
   "outputs": [
    {
     "data": {
      "text/plain": [
       "['february', 'firmware', 'update', 'amazon', 'tap']"
      ]
     },
     "execution_count": 39,
     "metadata": {},
     "output_type": "execute_result"
    }
   ],
   "source": [
    "all_nouns_clean[5:10]"
   ]
  },
  {
   "cell_type": "markdown",
   "metadata": {},
   "source": [
    "#### We need to remove contextual stop words as well"
   ]
  },
  {
   "cell_type": "code",
   "execution_count": 40,
   "metadata": {
    "ExecuteTime": {
     "end_time": "2023-05-06T17:25:25.612231Z",
     "start_time": "2023-05-06T17:25:25.605697Z"
    }
   },
   "outputs": [],
   "source": [
    "stop_context = ['tap','amazon', 'device', 'speaker', 'product']"
   ]
  },
  {
   "cell_type": "code",
   "execution_count": 41,
   "metadata": {
    "ExecuteTime": {
     "end_time": "2023-05-06T17:25:33.246359Z",
     "start_time": "2023-05-06T17:25:33.239368Z"
    }
   },
   "outputs": [],
   "source": [
    "all_nouns_clean = [term for term in all_nouns_clean if term not in stop_context]"
   ]
  },
  {
   "cell_type": "code",
   "execution_count": 42,
   "metadata": {
    "ExecuteTime": {
     "end_time": "2023-05-06T17:25:41.476229Z",
     "start_time": "2023-05-06T17:25:41.463712Z"
    }
   },
   "outputs": [
    {
     "data": {
      "text/plain": [
       "4167"
      ]
     },
     "execution_count": 42,
     "metadata": {},
     "output_type": "execute_result"
    }
   ],
   "source": [
    "len(all_nouns_clean)"
   ]
  },
  {
   "cell_type": "markdown",
   "metadata": {},
   "source": [
    "### Use counter to get top nouns/keywords for all the reviews"
   ]
  },
  {
   "cell_type": "code",
   "execution_count": 43,
   "metadata": {
    "ExecuteTime": {
     "end_time": "2023-05-06T17:26:10.856771Z",
     "start_time": "2023-05-06T17:26:10.847264Z"
    }
   },
   "outputs": [],
   "source": [
    "from collections import Counter"
   ]
  },
  {
   "cell_type": "code",
   "execution_count": 44,
   "metadata": {
    "ExecuteTime": {
     "end_time": "2023-05-06T17:26:18.340359Z",
     "start_time": "2023-05-06T17:26:18.335822Z"
    }
   },
   "outputs": [],
   "source": [
    "term_counts = Counter(all_nouns_clean)"
   ]
  },
  {
   "cell_type": "code",
   "execution_count": 45,
   "metadata": {
    "ExecuteTime": {
     "end_time": "2023-05-06T17:26:27.355961Z",
     "start_time": "2023-05-06T17:26:27.340532Z"
    }
   },
   "outputs": [
    {
     "data": {
      "text/plain": [
       "[('echo', 205),\n",
       " ('alexa', 171),\n",
       " ('music', 154),\n",
       " ('sound', 146),\n",
       " ('button', 69),\n",
       " ('quality', 69),\n",
       " ('bluetooth', 63),\n",
       " ('voice', 56),\n",
       " ('great', 53),\n",
       " ('battery', 49),\n",
       " ('time', 48),\n",
       " ('dot', 40),\n",
       " ('home', 38),\n",
       " ('phone', 37),\n",
       " ('portability', 37)]"
      ]
     },
     "execution_count": 45,
     "metadata": {},
     "output_type": "execute_result"
    }
   ],
   "source": [
    "term_counts.most_common(15)"
   ]
  },
  {
   "cell_type": "markdown",
   "metadata": {},
   "source": [
    "### Plotting the top features on a horizontal bar chart"
   ]
  },
  {
   "cell_type": "code",
   "execution_count": 46,
   "metadata": {
    "ExecuteTime": {
     "end_time": "2023-05-06T17:26:52.983919Z",
     "start_time": "2023-05-06T17:26:52.972428Z"
    }
   },
   "outputs": [],
   "source": [
    "res = {term:cnt for term, cnt in term_counts.most_common(15)}"
   ]
  },
  {
   "cell_type": "code",
   "execution_count": 47,
   "metadata": {
    "ExecuteTime": {
     "end_time": "2023-05-06T17:27:04.848530Z",
     "start_time": "2023-05-06T17:27:04.025555Z"
    }
   },
   "outputs": [],
   "source": [
    "import matplotlib.pyplot as plt"
   ]
  },
  {
   "cell_type": "code",
   "execution_count": 48,
   "metadata": {
    "ExecuteTime": {
     "end_time": "2023-05-06T17:27:07.233747Z",
     "start_time": "2023-05-06T17:27:07.014616Z"
    }
   },
   "outputs": [
    {
     "data": {
      "image/png": "[encoded data removed]",
      "text/plain": [
       "<Figure size 720x432 with 1 Axes>"
      ]
     },
     "metadata": {
      "needs_background": "light"
     },
     "output_type": "display_data"
    }
   ],
   "source": [
    "plt.figure(figsize=[10,6])\n",
    "plt.barh(list(res.keys()), list(res.values()), color=\"teal\")\n",
    "plt.show()"
   ]
  },
  {
   "cell_type": "code",
   "execution_count": null,
   "metadata": {},
   "outputs": [],
   "source": []
  }
 ],
 "metadata": {
  "kernelspec": {
   "display_name": "Python 3",
   "language": "python",
   "name": "python3"
  },
  "language_info": {
   "codemirror_mode": {
    "name": "ipython",
    "version": 3
   },
   "file_extension": ".py",
   "mimetype": "text/x-python",
   "name": "python",
   "nbconvert_exporter": "python",
   "pygments_lexer": "ipython3",
   "version": "3.7.6"
  }
 },
 "nbformat": 4,
 "nbformat_minor": 4
}
