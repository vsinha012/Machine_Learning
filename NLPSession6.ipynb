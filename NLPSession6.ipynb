{
 "cells": [
  {
   "cell_type": "markdown",
   "metadata": {},
   "source": [
    "## Sentiment Analysis"
   ]
  },
  {
   "cell_type": "markdown",
   "metadata": {},
   "source": [
    "### Also referred to as \"Text Mining\" or \"Opnion Analysis\"\n",
    "#### A technique used for text analysis using NLP or ML to assign weighted sentiment scores to the opinion mentioned in the text. \n",
    "#### A view or opinion that is held or expressed. \n",
    "#### Widely applied to review and survey responses online and on social media, for providing good customer service and marketing. \n",
    "#### If 2 people are experessing their opinion then there could be 3 opinions - your opinion, my opinion, and our opinion. \n",
    "#### Given the enormity of textual contents on social media, we want to understand the sentiment. \n",
    "##### \n",
    "### Sentiment Analysis: Techniques\n",
    "#### 1. Machine Learning Approach\n",
    "#### 2. Lexicon-Based Approach\n",
    "#### Product Reviews -> Sentiment Identification (Opinionative words or phrases) -> Feature Selection -> Sentiment Classification -> Sentiment Polarity\n",
    "### Steps involved\n",
    "####  1. User gives the feedback or comment on the portal \n",
    "####  2. Categorization of possible sentiments is done\n",
    "####  3. Feature selection is applied after noise removal and text processing\n",
    "####  4. ML or Lexicon-based approach will be applied for sentiment classification \n",
    "####  5. Score polarity is defined. \n",
    "##### \n",
    "### Sentiment Analysis: Applications\n",
    "#### 1. Brand Monitoring\n",
    "#### 2. Customer Service Prioritization\n",
    "#### 3. Product Analysis\n",
    "#### 4. Competitive Research\n",
    "#### 5. Market Research and Insights into Industry Trends\n",
    "#### 6. Employee Engagement Monitoring\n",
    "#### "
   ]
  },
  {
   "cell_type": "markdown",
   "metadata": {},
   "source": [
    "### VADER - VALENCE AWARE DICTIONARY FOR SENTIMENT REASONING\n",
    "#### A Lexicon-Based Approach\n",
    "#### A Rule-Based Approach"
   ]
  },
  {
   "cell_type": "code",
   "execution_count": 1,
   "metadata": {},
   "outputs": [],
   "source": [
    "import pandas as pd\n",
    "import numpy as np\n",
    "import matplotlib.pyplot as plt\n",
    "import seaborn as sns\n",
    "\n",
    "%matplotlib inline"
   ]
  },
  {
   "cell_type": "code",
   "execution_count": 2,
   "metadata": {},
   "outputs": [
    {
     "name": "stdout",
     "output_type": "stream",
     "text": [
      "Defaulting to user installation because normal site-packages is not writeable\n",
      "Requirement already satisfied: vaderSentiment in ./.local/lib/python3.7/site-packages (3.3.2)\n",
      "Requirement already satisfied: requests in /usr/local/lib/python3.7/site-packages (from vaderSentiment) (2.23.0)\n",
      "Requirement already satisfied: certifi>=2017.4.17 in /usr/local/lib/python3.7/site-packages (from requests->vaderSentiment) (2019.11.28)\n",
      "Requirement already satisfied: idna<3,>=2.5 in /usr/local/lib/python3.7/site-packages (from requests->vaderSentiment) (2.9)\n",
      "Requirement already satisfied: urllib3!=1.25.0,!=1.25.1,<1.26,>=1.21.1 in /usr/local/lib/python3.7/site-packages (from requests->vaderSentiment) (1.25.8)\n",
      "Requirement already satisfied: chardet<4,>=3.0.2 in /usr/local/lib/python3.7/site-packages (from requests->vaderSentiment) (3.0.4)\n",
      "\u001b[33mWARNING: You are using pip version 22.0.3; however, version 23.1.2 is available.\n",
      "You should consider upgrading via the '/usr/local/bin/python3 -m pip install --upgrade pip' command.\u001b[0m\u001b[33m\n",
      "\u001b[0m"
     ]
    }
   ],
   "source": [
    "!pip install vaderSentiment"
   ]
  },
  {
   "cell_type": "code",
   "execution_count": 4,
   "metadata": {},
   "outputs": [],
   "source": [
    "from vaderSentiment.vaderSentiment import SentimentIntensityAnalyzer"
   ]
  },
  {
   "cell_type": "code",
   "execution_count": 5,
   "metadata": {},
   "outputs": [],
   "source": [
    "vader_analyzer = SentimentIntensityAnalyzer()"
   ]
  },
  {
   "cell_type": "code",
   "execution_count": 8,
   "metadata": {},
   "outputs": [],
   "source": [
    "def sentiment_analyzer_calculation(sentence):\n",
    "    score = vader_analyzer.polarity_scores(sentence)\n",
    "    print(\"{:-<40} {}\".format(sentence, str(score)))"
   ]
  },
  {
   "cell_type": "code",
   "execution_count": 13,
   "metadata": {},
   "outputs": [
    {
     "name": "stdout",
     "output_type": "stream",
     "text": [
      "The NLP Session is Cool----------------- {'neg': 0.0, 'neu': 0.635, 'pos': 0.365, 'compound': 0.3182}\n",
      "None\n"
     ]
    }
   ],
   "source": [
    "# Below statement will provide the polarity score.  \n",
    "# The first one is giving negative sentiment as'neg' which is saying that there is no negative sentiment. \n",
    "# The second score is neutral sentiment as 'neu' specifying that it is 0.635\n",
    "# The third score is positive sentiment as 'pos' specify it as 0.365\n",
    "# The last one is compound score as 'compound' which is calculating based on negative, neutral, and positive ratings. \n",
    "print(sentiment_analyzer_calculation('The NLP Session is Cool'))"
   ]
  },
  {
   "cell_type": "code",
   "execution_count": 14,
   "metadata": {},
   "outputs": [
    {
     "name": "stdout",
     "output_type": "stream",
     "text": [
      "The NLP Session is Cool!---------------- {'neg': 0.0, 'neu': 0.607, 'pos': 0.393, 'compound': 0.3802}\n",
      "None\n"
     ]
    }
   ],
   "source": [
    "print(sentiment_analyzer_calculation('The NLP Session is Cool!'))"
   ]
  },
  {
   "cell_type": "code",
   "execution_count": 15,
   "metadata": {},
   "outputs": [
    {
     "name": "stdout",
     "output_type": "stream",
     "text": [
      "The NLP Session is Cool!!--------------- {'neg': 0.0, 'neu': 0.581, 'pos': 0.419, 'compound': 0.4374}\n",
      "None\n"
     ]
    }
   ],
   "source": [
    "print(sentiment_analyzer_calculation('The NLP Session is Cool!!'))"
   ]
  },
  {
   "cell_type": "code",
   "execution_count": 16,
   "metadata": {},
   "outputs": [
    {
     "name": "stdout",
     "output_type": "stream",
     "text": [
      "The NLP Session is Cool!!!-------------- {'neg': 0.0, 'neu': 0.557, 'pos': 0.443, 'compound': 0.4898}\n",
      "None\n"
     ]
    }
   ],
   "source": [
    "print(sentiment_analyzer_calculation('The NLP Session is Cool!!!'))"
   ]
  },
  {
   "cell_type": "code",
   "execution_count": 24,
   "metadata": {},
   "outputs": [
    {
     "name": "stdout",
     "output_type": "stream",
     "text": [
      "The NLP Session is Cool!!!!!!----------- {'neg': 0.0, 'neu': 0.536, 'pos': 0.464, 'compound': 0.5374}\n",
      "None\n"
     ]
    }
   ],
   "source": [
    "print(sentiment_analyzer_calculation('The NLP Session is Cool!!!!!!'))"
   ]
  },
  {
   "cell_type": "code",
   "execution_count": 25,
   "metadata": {},
   "outputs": [
    {
     "name": "stdout",
     "output_type": "stream",
     "text": [
      "The nlp Session is COOL----------------- {'neg': 0.0, 'neu': 0.569, 'pos': 0.431, 'compound': 0.4648}\n",
      "None\n"
     ]
    }
   ],
   "source": [
    "print(sentiment_analyzer_calculation('The nlp Session is COOL'))"
   ]
  },
  {
   "cell_type": "code",
   "execution_count": 26,
   "metadata": {},
   "outputs": [
    {
     "name": "stdout",
     "output_type": "stream",
     "text": [
      "THE NLP SESSION IS COOL----------------- {'neg': 0.0, 'neu': 0.635, 'pos': 0.365, 'compound': 0.3182}\n",
      "None\n"
     ]
    }
   ],
   "source": [
    "print(sentiment_analyzer_calculation('THE NLP SESSION IS COOL'))"
   ]
  },
  {
   "cell_type": "code",
   "execution_count": 27,
   "metadata": {},
   "outputs": [],
   "source": [
    "## The above examples show that scores are different when sentence (cool) is written in differently \n",
    "## such as all words n capital vs. all lower case except COOL word capitalized. Similarly, if the sentence \n",
    "## is italicized, it will have different scores. "
   ]
  },
  {
   "cell_type": "code",
   "execution_count": 30,
   "metadata": {},
   "outputs": [
    {
     "name": "stdout",
     "output_type": "stream",
     "text": [
      "The nlp session is extremely COOL------- {'neg': 0.0, 'neu': 0.601, 'pos': 0.399, 'compound': 0.5149}\n",
      "None\n"
     ]
    }
   ],
   "source": [
    "# Modifier words such as Very, Extremely, Really, Absolutely, Marginally, etc. \n",
    "print(sentiment_analyzer_calculation('The nlp session is extremely COOL'))"
   ]
  },
  {
   "cell_type": "code",
   "execution_count": 29,
   "metadata": {},
   "outputs": [
    {
     "name": "stdout",
     "output_type": "stream",
     "text": [
      "The nlp session is marginally COOL------ {'neg': 0.0, 'neu': 0.646, 'pos': 0.354, 'compound': 0.4098}\n",
      "None\n"
     ]
    }
   ],
   "source": [
    "print(sentiment_analyzer_calculation('The nlp session is marginally COOL'))"
   ]
  },
  {
   "cell_type": "code",
   "execution_count": 31,
   "metadata": {},
   "outputs": [
    {
     "name": "stdout",
     "output_type": "stream",
     "text": [
      "The nlp session is cool but I don't like the complexity {'neg': 0.2, 'neu': 0.676, 'pos': 0.124, 'compound': -0.2535}\n",
      "None\n"
     ]
    }
   ],
   "source": [
    "print(sentiment_analyzer_calculation(\"The nlp session is cool but I don't like the complexity\"))"
   ]
  },
  {
   "cell_type": "code",
   "execution_count": 32,
   "metadata": {},
   "outputs": [],
   "source": [
    "import pandas as pd\n",
    "import numpy as np\n",
    "import pickle\n",
    "import sys\n",
    "import os\n",
    "import io\n",
    "import re\n",
    "from sys import path"
   ]
  },
  {
   "cell_type": "markdown",
   "metadata": {},
   "source": [
    "###\n",
    "### Natural Language Generation "
   ]
  },
  {
   "cell_type": "markdown",
   "metadata": {},
   "source": [
    "#### A part of AI and computational linguistics that mainly focuses on computer systems which can produce understandable text in human language. \n",
    "#### It converts a computer-based representation into natual language representation which is the opposite process of natural language understanding (NLU). \n",
    "### Stages in NLG\n",
    "#### 1. Content Determination\n",
    "#### 2. Document Structuring\n",
    "#### 3. Lexical Selection (Lexicon means words)\n",
    "#### 4. Expression Generation\n",
    "#### 5. Aggregation and Realization\n",
    "### Response Generation Mechanism\n",
    "#### 1. Generative Based Model\n",
    "#### 2. Retrieval Based Model\n",
    "### Applications of NLG\n",
    "#### 1. Autocomplete\n",
    "#### 2. Translation\n",
    "#### 3. Question Answering\n",
    "#### 4. Dialogue System\n",
    "### Retrieval Based Model: Introduction\n",
    "#### 1. The model creates responses from a bunch of predefined patterns \n",
    "#### 2. Input and context are important parameters to pick the responses. \n",
    "#### 3. It uses heuristics to fetch the best result from the available repsonses\n",
    "#### 4. The score is generated for picking the relevant responses. \n",
    "### Retrieval Based Model: Cons\n",
    "#### 1. No new text generation possible due to its fixed nature\n",
    "#### 2. Lots of heuristics are written due to which the system is not intelligent\n",
    "#### 3. Can handle only predefined scenarios\n",
    "### Retrieval Based Model: Pros\n",
    "#### 1. Less chances of error as the system consists of grammatically correct responses\n",
    "#### 2. Suitable for customer satisfaction and business problems\n",
    "#### 3. Requires less effort and data\n",
    "#### "
   ]
  },
  {
   "cell_type": "markdown",
   "metadata": {},
   "source": [
    "### Examples: \n",
    "#### Search Engine or Document Retrieval System\n",
    "#### 1. Used in information retrieval systems\n",
    "#### 2. Knowledge base is set of documents and input is a search term or query\n",
    "#### 3. Task is to retrieve documents that are most relevant to the search query"
   ]
  },
  {
   "cell_type": "code",
   "execution_count": 33,
   "metadata": {},
   "outputs": [],
   "source": [
    "#### Vinyals and Le Approach\n",
    "#### ELIZA\n",
    "#### AIML"
   ]
  },
  {
   "cell_type": "code",
   "execution_count": 35,
   "metadata": {},
   "outputs": [],
   "source": [
    "### 1. XML Based Markup Language"
   ]
  },
  {
   "cell_type": "markdown",
   "metadata": {},
   "source": [
    "### Artificial Intelligence Markup Language \n",
    "#### Used in Chatbot, Superbot, Verbot, Pandorabot"
   ]
  },
  {
   "cell_type": "markdown",
   "metadata": {},
   "source": [
    "### Generative Based Model"
   ]
  },
  {
   "cell_type": "markdown",
   "metadata": {},
   "source": [
    "#### A statistical Model of the joint probability distribution of X and Y:\n",
    "####   X is observable\n",
    "####   Y is target\n",
    "#### Describes how a dataset is created, in terms of probabilistic model\n",
    "#### Learns any kind of data distribution, using unsupervised learning model "
   ]
  },
  {
   "cell_type": "markdown",
   "metadata": {},
   "source": [
    "### Apporaches\n",
    "#### 1. Variation Autoencoders (VAE)\n",
    "#### 2. Generative Adversarial Networks (GAN)\n",
    "### Examples\n",
    "#### Create a model that can generate a new image of dog:\n",
    "####   Input: Dataset of dogs\n",
    "####   Model: To learn generic rules to create new outputs\n",
    "####   Output: New images of dogs\n",
    "#### Training Data -> Generatie Model (Random Noise) -> Generative Sample\n",
    "#### argmaxy P(Y=y|X=x)=argmaxy P(Y=y, X=x)/P(X=x) and since P(X=x) is constant on the RHS, this equals to argmaxy P(Y=y, X=x)\n",
    "#### Generative models are capable of more than just prediction i.e. maximizing P(Y|X=x).  By estimating P(Y,X) and able to sample X,Y pairs.\n",
    "#### \n",
    "#### Generative model can be used to \n",
    "#### 1. Impute missing data\n",
    "#### 2. Compress the dataset\n",
    "#### 3. Generate unseen data\n",
    "#### \n",
    "### Language Modeling\n",
    "#### 1. Used to compute a probability of a token.\n",
    "#### 2. Way of statistical analysis of natural language.\n",
    "#### 3. One of the fundamental tasks of NLP that has many applications. \n",
    "### Language Modeling is used for\n",
    "#### 1. Word Prediction: Probability distribution of sequence of words\n",
    "#### 2. Spelling Correction\n",
    "#### 3. Automative Speech Recognition\n",
    "#### 4. Machine Translation\n",
    "### Next Word Prediction\n",
    "#### \n",
    "### Define Language Models\n",
    "#### Calculate the probability of a sentence of sequence of words, P(W) = P(w1, w2, w3,....,wn) - Condition Probability of Chain Rule\n",
    "#### Markov Assumption: \n",
    "#### The conditional probability of a sentence of sequence of words (P"
   ]
  }
 ],
 "metadata": {
  "kernelspec": {
   "display_name": "Python 3",
   "language": "python",
   "name": "python3"
  },
  "language_info": {
   "codemirror_mode": {
    "name": "ipython",
    "version": 3
   },
   "file_extension": ".py",
   "mimetype": "text/x-python",
   "name": "python",
   "nbconvert_exporter": "python",
   "pygments_lexer": "ipython3",
   "version": "3.7.6"
  }
 },
 "nbformat": 4,
 "nbformat_minor": 4
}
