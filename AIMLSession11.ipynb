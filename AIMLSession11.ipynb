{
 "cells": [
  {
   "cell_type": "markdown",
   "metadata": {},
   "source": [
    "## Introduction to Recommendation System\n",
    "## Case Study Demo on Recommendation System\n",
    "### Project Q&A \n",
    "### Course Q&A\n",
    "\n",
    "### Question 1: For columns like gender, if they have numeric values like Male = 1, female = 0, do we need to convert this column into data-type obejct before using in regression models?\n",
    "### Thumb Rule -> Always one-hot endcoding is applicable to CATEGORICAL DATA in feature columns until DOMAIN DEMANDS TO KEEP ONE COLUMN\n",
    "\n"
   ]
  },
  {
   "cell_type": "code",
   "execution_count": 1,
   "metadata": {},
   "outputs": [],
   "source": [
    "### gender --------> Apply OHE -----> M | F  -------------> To avoide DummyVariable Trap -----> M\n",
    "### -------                          --------               Randomly delete one col from       ----\n",
    "###  M                                 1 | 0                given dummy cols                     1\n",
    "###  F                                 0 | 1                                                     0\n",
    "###  F                                 0 | 1                                                     0\n",
    "###  M                                 1 | 0                                                     1\n"
   ]
  },
  {
   "cell_type": "code",
   "execution_count": null,
   "metadata": {},
   "outputs": [],
   "source": [
    "## Recommendation System follows the concept of Market Basket Analysis\n",
    "### \n",
    "### Example"
   ]
  }
 ],
 "metadata": {
  "kernelspec": {
   "display_name": "Python 3",
   "language": "python",
   "name": "python3"
  },
  "language_info": {
   "codemirror_mode": {
    "name": "ipython",
    "version": 3
   },
   "file_extension": ".py",
   "mimetype": "text/x-python",
   "name": "python",
   "nbconvert_exporter": "python",
   "pygments_lexer": "ipython3",
   "version": "3.7.6"
  }
 },
 "nbformat": 4,
 "nbformat_minor": 4
}
