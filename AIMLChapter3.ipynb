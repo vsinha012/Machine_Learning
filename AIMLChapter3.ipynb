{
 "cells": [
  {
   "cell_type": "markdown",
   "metadata": {},
   "source": [
    "## Supervised Learning: Regression and Classification"
   ]
  },
  {
   "cell_type": "markdown",
   "metadata": {},
   "source": [
    "### Supervised Learning: A type of machine learning used to train models from labeled training data.  It allows you to \n",
    "### predict the output for future or unseen data. \n",
    "\n",
    "### Labelled Data: Data that is labelled. Group of features that is tagged with labels. \n",
    "### Training data is the data on which Machine discovers patterns so that input parameters correspond to target. \n",
    "### Machine Leanring Model: The training yields an ML model that you can use to make prediction. \n",
    "\n",
    "#### Examples of Supervised Learning: \n",
    "####   1. Weather Forecast: Based on weather data collected, machine can train as all data is labelled data such as temprature, humidity, air pressure, etc. \n",
    "####   2. Gmail filter: Based on sender's email address, IP address, email content, user's past behavior, the gmail spam filter can flag email as spam or not spam. Further data collected such as reaction from email receiver such as if user has not opened an email or delete immediately or marked as spam. \n",
    "\n",
    "#### Supervised Learning Real-Life Scenarios\n",
    "#### 1. Netflix uses supervised learning algorithms to recomend shows you may watch based on the genres you choose and ratings by similar classes of users. \n",
    "\n",
    "###  Understanding the Algorithm\n",
    "#### Training data consists of inputs, also known as features, and output, also known as label. \n",
    "#### Example: An apple has features such as its color is red, size is medium, and weight is 50 gm.  Based on this you #### can predict, it must be an apple. \n",
    "\n",
    "#### Consider the training data where X column is given as input and y column as output.  Then you train the alogright (reverse engineer the relationship between X and y) by using y = f(X)\n",
    "\n",
    "#### Supervised Learning Flow includes two phases\n",
    "####   1. Training and Testing: Includes historical data where the total population is randomly distributed between   different samples and a sample is chosen randomly for training and a sample is chosen randomly for testing. Training dataset is then used for machine learning to use statistical modeling for prediction.  Test dataset is then used to validate to come up the Model Validation Outcome. For example, 70% of dataset is randomly distributed for training and 30% of dataset is randomly distributed for testing.    \n",
    "\n",
    "#### Now you have tested the data then you want to use new data for prediction.  You apply statistical modeling to the learned algorithm y = f(X) to predict production data.  You will get the Prediciton Outcome \n",
    "#### Algorithm prediction can be improved by providing more training and capacity or by algorightm redesign. \n",
    "\n",
    "\n"
   ]
  },
  {
   "cell_type": "markdown",
   "metadata": {},
   "source": [
    "## Types of Supervised Learning "
   ]
  },
  {
   "cell_type": "markdown",
   "metadata": {},
   "source": [
    "###  There are two types of Supervised Learning: \n",
    "###    1. Classification: \n",
    "####        (i)   Classification is a supervised learning where the output has predefined labels that have discrete values. \n",
    "####        (ii)  A discrete value is a value that is obtained by counting.  \n",
    "####        (iii) The goal is to predict discrete values that belong to a particular class and evaluating on the basis of accuracy. \n",
    "\n",
    "###    2. Regression: \n",
    "####        (i)   Regression is a supervised learning type where the output has a continuous value.  \n",
    "####        (ii)  A continuous value is a value that is not restricted to defined separate values but can occupy any value across the range.  \n",
    "####         (iii) The use of Regression is to predict a value as close to the actual output value as possible and evaluate it by calculating error value. \n",
    "####          (iv) The error value is inversely proportional to the accuracy of our regression model. Smaller the error value, greater the accuracy of the model \n",
    "\n",
    "####  In supervised learning, the algorithm is selected based on the target variable. "
   ]
  },
  {
   "cell_type": "markdown",
   "metadata": {},
   "source": [
    "\n",
    "\n",
    "### Classification Algorithm: \n",
    "####  When can you use Classification Algorithm? \n",
    "####  You use Classification Algorithm when the target variable is categorical (classes).  \n",
    "####  It is applied when the output has finite and discrete values. \n",
    "####  Example: You want to predict the class of a car on the basis of certain features such as horsepower, mileage, weight, and color and you want to predict if it is sedan, SUV, and hatchback.  Here you have all catetgorical data with you and you are predicting discrete values. "
   ]
  },
  {
   "cell_type": "markdown",
   "metadata": {},
   "source": [
    "#### Classification either predicts categorical class labels or classifies information that is used in the classification of characterisitcs to build a model based on the training set and values. \n",
    "#### In the graph, a line is drawn to classify objects.  The distance of each point from the line is the error in the classification. \n"
   ]
  },
  {
   "cell_type": "markdown",
   "metadata": {},
   "source": [
    "## Regression Algorithm"
   ]
  },
  {
   "cell_type": "markdown",
   "metadata": {},
   "source": [
    "### When can you use Regression Algorithm? \n",
    "#### You use Regression Algorightm when target variable is continuous numeric variable (e.g. 100 to 2000). \n",
    "#### In another word, You use Regression Algorithm when you can predict a continuous dependent variable from a number of independent variables. \n",
    "\n",
    "#### Assume you want predict a price of house based on square area, location, and number of bedrooms.  Here is the price is continuous variable that can be predicted using continuous algorithms. Use the equation y = wX + b where y is the price and X is the square foot and y can be anywhere in a defined range. "
   ]
  },
  {
   "cell_type": "markdown",
   "metadata": {},
   "source": [
    "## Types of Regression Algorithms\n",
    "#### 1. Linear Regression: A statistical model used to predict the relationship between independent and dependent variables denoted by x and y respectively. You examine the two factors (a) The result falls between -1 and 1. 0 means no correlation, 1 means positive correlation, and -1 means negative correlation. (b) Prediction: When the relationship between x and y is known, use this to predict future values of y for a value of X.  This is done by fitting a regression line and is represented by linear equation y = a*X + b. Variable that you are predicting is called \"Criterion\" variable and variables that you are basing your prediction are called \"Predictor\"\n",
    "\n",
    "#### 2. Multiple Linear Regression: Explains the relationship between two or more independent variables that are x1, x2, x3,...etc. and one continuous variable that is y. The euqation is y = m1*X1 + m2*X2 + m3*X3 +....+ mn*Xn + c.  Here y is dependent variable, m1, m2, m3...mn are slope and, c is coefficient\n",
    "\n",
    "#### 3. Polynomial Regression: Relationship between the dependent variable y and the independent variable X is modeled as an nth degree polynomial in X. It is applied when data is not formed in a straight line and is used to fit linear model in a non-linear data by creating new features by the power of non-linear features.  \n",
    "\n",
    "#### 4. Ridge Regression \n",
    "#### 5. Lasso Regression \n",
    "#### 6. ElasticNet Regression"
   ]
  },
  {
   "cell_type": "markdown",
   "metadata": {},
   "source": [
    "\n",
    "\n",
    "\n",
    "## Accuracy Metrics"
   ]
  },
  {
   "cell_type": "markdown",
   "metadata": {},
   "source": [
    "#### You can validate the prediction made by the regression model using accuracy metrics. \n",
    "#### R-square is the most common metric to judget the performance of regression models. "
   ]
  },
  {
   "cell_type": "markdown",
   "metadata": {},
   "source": [
    "#### Its value lies between 0 and 100%"
   ]
  },
  {
   "cell_type": "markdown",
   "metadata": {},
   "source": [
    "####   If you apply r-squared on your linear regression model and you get the value 16, it means you have 16% information to make an accurate prediction. "
   ]
  },
  {
   "cell_type": "markdown",
   "metadata": {},
   "source": [
    "####   The difference between predicted value and actual value is known as Error. \n",
    "\n",
    "####   The disadvantage with R-squared is that it assumes that every independent variable in the model causes variations in the dependent variable. This can be solved by \"Adjusted R-squared\". It is recommended that you use Adjusted R-Squared when you are working with multi-linear functions. "
   ]
  },
  {
   "cell_type": "markdown",
   "metadata": {},
   "source": [
    "\n",
    "\n",
    "##   Cost Function and Mean-Squared Error\n",
    "####   Mean Squared Error (MSE) is used to measure the performance of a model \n",
    "####   Root Mean Squared Error (RMSE)\n",
    "####   These functions are called Cost Function which must be reduced in a model. \n",
    "\n",
    "###   Gradient Descent \n",
    "####   Gradient Descent is a first order iterative optimization algorithm for finding the minimum of a function. It tweaks its parameters (coefficients) iteratively to minimize a given cost function. The model stops learning when the gradient (slope) is zero. \n",
    "\n",
    "####   Gradient Descent Algorithm has two steps involved: \n",
    "####   1. Initialize the parameter by some value \n",
    "####   2. Calculate the derivate of the cost function iteratively and simultaneously update the parameters. \n",
    "####   In the equation of gradient descent, alpha must not be too small else the learning will take too long or too large else the network will not get good coverage. And theta is the metrics value. \n"
   ]
  },
  {
   "cell_type": "code",
   "execution_count": null,
   "metadata": {},
   "outputs": [],
   "source": [
    "\n",
    "\n",
    "####   "
   ]
  }
 ],
 "metadata": {
  "kernelspec": {
   "display_name": "Python 3",
   "language": "python",
   "name": "python3"
  },
  "language_info": {
   "codemirror_mode": {
    "name": "ipython",
    "version": 3
   },
   "file_extension": ".py",
   "mimetype": "text/x-python",
   "name": "python",
   "nbconvert_exporter": "python",
   "pygments_lexer": "ipython3",
   "version": "3.7.6"
  }
 },
 "nbformat": 4,
 "nbformat_minor": 4
}
