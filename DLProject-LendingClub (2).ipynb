{
 "cells": [
  {
   "cell_type": "markdown",
   "metadata": {},
   "source": [
    "## Lending Club Load Data Analysis\n",
    "### Project \n",
    "#### Perform exploratory data analysis and feature engineering and then apply feature engineering. Follow up with a deep learning model to predict whether or not the loan will be default using the historical data.\n",
    "### Dataset columns and definition:\n",
    "#### Credit.policy: 1 if the customer meets the credit underwriting criteria of LendingClub.com, and 0 otherwise.\n",
    "#### purpose: The purpose of the loan (takes values \"credit_card\", \"debt_consolidation\", \"educational\", \"major_purchase\", \"small_business\", and \"all_other\").\n",
    "#### int.rate: The interest rate of the loan, as a proportion (a rate of 11% would be stored as 0.11). Borrowers judged by LendingClub.com to be more risky are assigned higher interest rates.\n",
    "#### installment: The monthly installments owed by the borrower if the loan is funded.\n",
    "#### log.annual.inc: The natural log of the self-reported annual income of the borrower.\n",
    "#### dti: The debt-to-income ratio of the borrower (amount of debt divided by annual income).\n",
    "#### fico: The FICO credit score of the borrower.\n",
    "#### days.with.cr.line: The number of days the borrower has had a credit line.\n",
    "#### revol.bal: The borrower's revolving balance (amount unpaid at the end of the credit card billing cycle).\n",
    "#### revol.util: The borrower's revolving line utilization rate (the amount of the credit line used relative to total credit available).\n",
    "#### inq.last.6mths: The borrower's number of inquiries by creditors in the last 6 months.\n",
    "#### delinq.2yrs: The number of times the borrower had been 30+ days past due on a payment in the past 2 years.\n",
    "#### pub.rec: The borrower's number of derogatory public records (bankruptcy filings, tax liens, or judgments)."
   ]
  },
  {
   "cell_type": "code",
   "execution_count": 1,
   "metadata": {},
   "outputs": [],
   "source": [
    "import pandas as pd\n",
    "import numpy as np\n",
    "import matplotlib.pyplot as plt\n",
    "import seaborn as sns\n",
    "\n",
    "%matplotlib inline"
   ]
  },
  {
   "cell_type": "code",
   "execution_count": 2,
   "metadata": {},
   "outputs": [],
   "source": [
    "df = pd.read_csv('loan_data.csv')"
   ]
  },
  {
   "cell_type": "code",
   "execution_count": 3,
   "metadata": {},
   "outputs": [
    {
     "data": {
      "text/html": [
       "<div>\n",
       "<style scoped>\n",
       "    .dataframe tbody tr th:only-of-type {\n",
       "        vertical-align: middle;\n",
       "    }\n",
       "\n",
       "    .dataframe tbody tr th {\n",
       "        vertical-align: top;\n",
       "    }\n",
       "\n",
       "    .dataframe thead th {\n",
       "        text-align: right;\n",
       "    }\n",
       "</style>\n",
       "<table border=\"1\" class=\"dataframe\">\n",
       "  <thead>\n",
       "    <tr style=\"text-align: right;\">\n",
       "      <th></th>\n",
       "      <th>credit.policy</th>\n",
       "      <th>purpose</th>\n",
       "      <th>int.rate</th>\n",
       "      <th>installment</th>\n",
       "      <th>log.annual.inc</th>\n",
       "      <th>dti</th>\n",
       "      <th>fico</th>\n",
       "      <th>days.with.cr.line</th>\n",
       "      <th>revol.bal</th>\n",
       "      <th>revol.util</th>\n",
       "      <th>inq.last.6mths</th>\n",
       "      <th>delinq.2yrs</th>\n",
       "      <th>pub.rec</th>\n",
       "      <th>not.fully.paid</th>\n",
       "    </tr>\n",
       "  </thead>\n",
       "  <tbody>\n",
       "    <tr>\n",
       "      <th>0</th>\n",
       "      <td>1</td>\n",
       "      <td>debt_consolidation</td>\n",
       "      <td>0.1189</td>\n",
       "      <td>829.10</td>\n",
       "      <td>11.350407</td>\n",
       "      <td>19.48</td>\n",
       "      <td>737</td>\n",
       "      <td>5639.958333</td>\n",
       "      <td>28854</td>\n",
       "      <td>52.1</td>\n",
       "      <td>0</td>\n",
       "      <td>0</td>\n",
       "      <td>0</td>\n",
       "      <td>0</td>\n",
       "    </tr>\n",
       "    <tr>\n",
       "      <th>1</th>\n",
       "      <td>1</td>\n",
       "      <td>credit_card</td>\n",
       "      <td>0.1071</td>\n",
       "      <td>228.22</td>\n",
       "      <td>11.082143</td>\n",
       "      <td>14.29</td>\n",
       "      <td>707</td>\n",
       "      <td>2760.000000</td>\n",
       "      <td>33623</td>\n",
       "      <td>76.7</td>\n",
       "      <td>0</td>\n",
       "      <td>0</td>\n",
       "      <td>0</td>\n",
       "      <td>0</td>\n",
       "    </tr>\n",
       "    <tr>\n",
       "      <th>2</th>\n",
       "      <td>1</td>\n",
       "      <td>debt_consolidation</td>\n",
       "      <td>0.1357</td>\n",
       "      <td>366.86</td>\n",
       "      <td>10.373491</td>\n",
       "      <td>11.63</td>\n",
       "      <td>682</td>\n",
       "      <td>4710.000000</td>\n",
       "      <td>3511</td>\n",
       "      <td>25.6</td>\n",
       "      <td>1</td>\n",
       "      <td>0</td>\n",
       "      <td>0</td>\n",
       "      <td>0</td>\n",
       "    </tr>\n",
       "    <tr>\n",
       "      <th>3</th>\n",
       "      <td>1</td>\n",
       "      <td>debt_consolidation</td>\n",
       "      <td>0.1008</td>\n",
       "      <td>162.34</td>\n",
       "      <td>11.350407</td>\n",
       "      <td>8.10</td>\n",
       "      <td>712</td>\n",
       "      <td>2699.958333</td>\n",
       "      <td>33667</td>\n",
       "      <td>73.2</td>\n",
       "      <td>1</td>\n",
       "      <td>0</td>\n",
       "      <td>0</td>\n",
       "      <td>0</td>\n",
       "    </tr>\n",
       "    <tr>\n",
       "      <th>4</th>\n",
       "      <td>1</td>\n",
       "      <td>credit_card</td>\n",
       "      <td>0.1426</td>\n",
       "      <td>102.92</td>\n",
       "      <td>11.299732</td>\n",
       "      <td>14.97</td>\n",
       "      <td>667</td>\n",
       "      <td>4066.000000</td>\n",
       "      <td>4740</td>\n",
       "      <td>39.5</td>\n",
       "      <td>0</td>\n",
       "      <td>1</td>\n",
       "      <td>0</td>\n",
       "      <td>0</td>\n",
       "    </tr>\n",
       "  </tbody>\n",
       "</table>\n",
       "</div>"
      ],
      "text/plain": [
       "   credit.policy             purpose  int.rate  installment  log.annual.inc  \\\n",
       "0              1  debt_consolidation    0.1189       829.10       11.350407   \n",
       "1              1         credit_card    0.1071       228.22       11.082143   \n",
       "2              1  debt_consolidation    0.1357       366.86       10.373491   \n",
       "3              1  debt_consolidation    0.1008       162.34       11.350407   \n",
       "4              1         credit_card    0.1426       102.92       11.299732   \n",
       "\n",
       "     dti  fico  days.with.cr.line  revol.bal  revol.util  inq.last.6mths  \\\n",
       "0  19.48   737        5639.958333      28854        52.1               0   \n",
       "1  14.29   707        2760.000000      33623        76.7               0   \n",
       "2  11.63   682        4710.000000       3511        25.6               1   \n",
       "3   8.10   712        2699.958333      33667        73.2               1   \n",
       "4  14.97   667        4066.000000       4740        39.5               0   \n",
       "\n",
       "   delinq.2yrs  pub.rec  not.fully.paid  \n",
       "0            0        0               0  \n",
       "1            0        0               0  \n",
       "2            0        0               0  \n",
       "3            0        0               0  \n",
       "4            1        0               0  "
      ]
     },
     "execution_count": 3,
     "metadata": {},
     "output_type": "execute_result"
    }
   ],
   "source": [
    "df.head()"
   ]
  },
  {
   "cell_type": "code",
   "execution_count": 4,
   "metadata": {},
   "outputs": [
    {
     "data": {
      "text/plain": [
       "(9578, 14)"
      ]
     },
     "execution_count": 4,
     "metadata": {},
     "output_type": "execute_result"
    }
   ],
   "source": [
    "df.shape"
   ]
  },
  {
   "cell_type": "code",
   "execution_count": 5,
   "metadata": {},
   "outputs": [
    {
     "name": "stdout",
     "output_type": "stream",
     "text": [
      "<class 'pandas.core.frame.DataFrame'>\n",
      "RangeIndex: 9578 entries, 0 to 9577\n",
      "Data columns (total 14 columns):\n",
      " #   Column             Non-Null Count  Dtype  \n",
      "---  ------             --------------  -----  \n",
      " 0   credit.policy      9578 non-null   int64  \n",
      " 1   purpose            9578 non-null   object \n",
      " 2   int.rate           9578 non-null   float64\n",
      " 3   installment        9578 non-null   float64\n",
      " 4   log.annual.inc     9578 non-null   float64\n",
      " 5   dti                9578 non-null   float64\n",
      " 6   fico               9578 non-null   int64  \n",
      " 7   days.with.cr.line  9578 non-null   float64\n",
      " 8   revol.bal          9578 non-null   int64  \n",
      " 9   revol.util         9578 non-null   float64\n",
      " 10  inq.last.6mths     9578 non-null   int64  \n",
      " 11  delinq.2yrs        9578 non-null   int64  \n",
      " 12  pub.rec            9578 non-null   int64  \n",
      " 13  not.fully.paid     9578 non-null   int64  \n",
      "dtypes: float64(6), int64(7), object(1)\n",
      "memory usage: 1.0+ MB\n"
     ]
    }
   ],
   "source": [
    "df.info()"
   ]
  },
  {
   "cell_type": "markdown",
   "metadata": {},
   "source": [
    "## 1. Feature Transformation: Transform categorical values into numerical values (discrete)\n",
    "\n",
    "#### The above information shows that 'purpose' is the only column that is categorical.  Therefore, the discrete values are being listed for understanding the data.\n",
    "#### Next step is to use label encoder and map the discrete values to the encoded value. "
   ]
  },
  {
   "cell_type": "code",
   "execution_count": 6,
   "metadata": {},
   "outputs": [
    {
     "data": {
      "text/plain": [
       "debt_consolidation    3957\n",
       "all_other             2331\n",
       "credit_card           1262\n",
       "home_improvement       629\n",
       "small_business         619\n",
       "major_purchase         437\n",
       "educational            343\n",
       "Name: purpose, dtype: int64"
      ]
     },
     "execution_count": 6,
     "metadata": {},
     "output_type": "execute_result"
    }
   ],
   "source": [
    "df['purpose'].value_counts()"
   ]
  },
  {
   "cell_type": "code",
   "execution_count": 7,
   "metadata": {},
   "outputs": [
    {
     "data": {
      "text/plain": [
       "Index(['purpose'], dtype='object')"
      ]
     },
     "execution_count": 7,
     "metadata": {},
     "output_type": "execute_result"
    }
   ],
   "source": [
    "# The following statement will list the column names of categorical data. \n",
    "df.select_dtypes(include='object').columns"
   ]
  },
  {
   "cell_type": "code",
   "execution_count": 8,
   "metadata": {},
   "outputs": [],
   "source": [
    "# Call the Label Encoder from Scikit Learn and apply the model to purpose datafield\n",
    "from sklearn.preprocessing import LabelEncoder\n",
    "le = LabelEncoder()\n",
    "df['purpose'] = le.fit_transform(df['purpose'])"
   ]
  },
  {
   "cell_type": "code",
   "execution_count": 9,
   "metadata": {},
   "outputs": [
    {
     "data": {
      "text/plain": [
       "(array(['all_other', 'credit_card', 'debt_consolidation', 'educational',\n",
       "        'home_improvement', 'major_purchase', 'small_business'],\n",
       "       dtype=object),\n",
       " array([0, 1, 2, 3, 4, 5, 6]))"
      ]
     },
     "execution_count": 9,
     "metadata": {},
     "output_type": "execute_result"
    }
   ],
   "source": [
    "# Call the mapping between the values\n",
    "(le.classes_, le.transform(le.classes_))"
   ]
  },
  {
   "cell_type": "code",
   "execution_count": 10,
   "metadata": {},
   "outputs": [],
   "source": [
    "df['purpose'] = df['purpose'].astype(int)"
   ]
  },
  {
   "cell_type": "code",
   "execution_count": 11,
   "metadata": {},
   "outputs": [
    {
     "data": {
      "text/plain": [
       "0"
      ]
     },
     "execution_count": 11,
     "metadata": {},
     "output_type": "execute_result"
    }
   ],
   "source": [
    "df.duplicated().sum()  ## This shows that there is no duplicate records"
   ]
  },
  {
   "cell_type": "code",
   "execution_count": 12,
   "metadata": {},
   "outputs": [
    {
     "data": {
      "text/plain": [
       "1    7710\n",
       "0    1868\n",
       "Name: credit.policy, dtype: int64"
      ]
     },
     "execution_count": 12,
     "metadata": {},
     "output_type": "execute_result"
    }
   ],
   "source": [
    "df['credit.policy'].value_counts()"
   ]
  },
  {
   "cell_type": "markdown",
   "metadata": {},
   "source": [
    "#### This shows that data is highly imbalanced. Therefore, data will be balanced using SMOTE. "
   ]
  },
  {
   "cell_type": "code",
   "execution_count": 13,
   "metadata": {},
   "outputs": [],
   "source": [
    "X = df.drop('credit.policy', axis=1)\n",
    "y = df['credit.policy']"
   ]
  },
  {
   "cell_type": "code",
   "execution_count": 14,
   "metadata": {},
   "outputs": [
    {
     "data": {
      "text/html": [
       "<div>\n",
       "<style scoped>\n",
       "    .dataframe tbody tr th:only-of-type {\n",
       "        vertical-align: middle;\n",
       "    }\n",
       "\n",
       "    .dataframe tbody tr th {\n",
       "        vertical-align: top;\n",
       "    }\n",
       "\n",
       "    .dataframe thead th {\n",
       "        text-align: right;\n",
       "    }\n",
       "</style>\n",
       "<table border=\"1\" class=\"dataframe\">\n",
       "  <thead>\n",
       "    <tr style=\"text-align: right;\">\n",
       "      <th></th>\n",
       "      <th>purpose</th>\n",
       "      <th>int.rate</th>\n",
       "      <th>installment</th>\n",
       "      <th>log.annual.inc</th>\n",
       "      <th>dti</th>\n",
       "      <th>fico</th>\n",
       "      <th>days.with.cr.line</th>\n",
       "      <th>revol.bal</th>\n",
       "      <th>revol.util</th>\n",
       "      <th>inq.last.6mths</th>\n",
       "      <th>delinq.2yrs</th>\n",
       "      <th>pub.rec</th>\n",
       "      <th>not.fully.paid</th>\n",
       "    </tr>\n",
       "  </thead>\n",
       "  <tbody>\n",
       "    <tr>\n",
       "      <th>0</th>\n",
       "      <td>2</td>\n",
       "      <td>0.1189</td>\n",
       "      <td>829.10</td>\n",
       "      <td>11.350407</td>\n",
       "      <td>19.48</td>\n",
       "      <td>737</td>\n",
       "      <td>5639.958333</td>\n",
       "      <td>28854</td>\n",
       "      <td>52.1</td>\n",
       "      <td>0</td>\n",
       "      <td>0</td>\n",
       "      <td>0</td>\n",
       "      <td>0</td>\n",
       "    </tr>\n",
       "    <tr>\n",
       "      <th>1</th>\n",
       "      <td>1</td>\n",
       "      <td>0.1071</td>\n",
       "      <td>228.22</td>\n",
       "      <td>11.082143</td>\n",
       "      <td>14.29</td>\n",
       "      <td>707</td>\n",
       "      <td>2760.000000</td>\n",
       "      <td>33623</td>\n",
       "      <td>76.7</td>\n",
       "      <td>0</td>\n",
       "      <td>0</td>\n",
       "      <td>0</td>\n",
       "      <td>0</td>\n",
       "    </tr>\n",
       "    <tr>\n",
       "      <th>2</th>\n",
       "      <td>2</td>\n",
       "      <td>0.1357</td>\n",
       "      <td>366.86</td>\n",
       "      <td>10.373491</td>\n",
       "      <td>11.63</td>\n",
       "      <td>682</td>\n",
       "      <td>4710.000000</td>\n",
       "      <td>3511</td>\n",
       "      <td>25.6</td>\n",
       "      <td>1</td>\n",
       "      <td>0</td>\n",
       "      <td>0</td>\n",
       "      <td>0</td>\n",
       "    </tr>\n",
       "    <tr>\n",
       "      <th>3</th>\n",
       "      <td>2</td>\n",
       "      <td>0.1008</td>\n",
       "      <td>162.34</td>\n",
       "      <td>11.350407</td>\n",
       "      <td>8.10</td>\n",
       "      <td>712</td>\n",
       "      <td>2699.958333</td>\n",
       "      <td>33667</td>\n",
       "      <td>73.2</td>\n",
       "      <td>1</td>\n",
       "      <td>0</td>\n",
       "      <td>0</td>\n",
       "      <td>0</td>\n",
       "    </tr>\n",
       "    <tr>\n",
       "      <th>4</th>\n",
       "      <td>1</td>\n",
       "      <td>0.1426</td>\n",
       "      <td>102.92</td>\n",
       "      <td>11.299732</td>\n",
       "      <td>14.97</td>\n",
       "      <td>667</td>\n",
       "      <td>4066.000000</td>\n",
       "      <td>4740</td>\n",
       "      <td>39.5</td>\n",
       "      <td>0</td>\n",
       "      <td>1</td>\n",
       "      <td>0</td>\n",
       "      <td>0</td>\n",
       "    </tr>\n",
       "  </tbody>\n",
       "</table>\n",
       "</div>"
      ],
      "text/plain": [
       "   purpose  int.rate  installment  log.annual.inc    dti  fico  \\\n",
       "0        2    0.1189       829.10       11.350407  19.48   737   \n",
       "1        1    0.1071       228.22       11.082143  14.29   707   \n",
       "2        2    0.1357       366.86       10.373491  11.63   682   \n",
       "3        2    0.1008       162.34       11.350407   8.10   712   \n",
       "4        1    0.1426       102.92       11.299732  14.97   667   \n",
       "\n",
       "   days.with.cr.line  revol.bal  revol.util  inq.last.6mths  delinq.2yrs  \\\n",
       "0        5639.958333      28854        52.1               0            0   \n",
       "1        2760.000000      33623        76.7               0            0   \n",
       "2        4710.000000       3511        25.6               1            0   \n",
       "3        2699.958333      33667        73.2               1            0   \n",
       "4        4066.000000       4740        39.5               0            1   \n",
       "\n",
       "   pub.rec  not.fully.paid  \n",
       "0        0               0  \n",
       "1        0               0  \n",
       "2        0               0  \n",
       "3        0               0  \n",
       "4        0               0  "
      ]
     },
     "execution_count": 14,
     "metadata": {},
     "output_type": "execute_result"
    }
   ],
   "source": [
    "X.head()"
   ]
  },
  {
   "cell_type": "code",
   "execution_count": 15,
   "metadata": {},
   "outputs": [
    {
     "data": {
      "text/plain": [
       "0    1\n",
       "1    1\n",
       "2    1\n",
       "3    1\n",
       "4    1\n",
       "Name: credit.policy, dtype: int64"
      ]
     },
     "execution_count": 15,
     "metadata": {},
     "output_type": "execute_result"
    }
   ],
   "source": [
    "y.head()"
   ]
  },
  {
   "cell_type": "code",
   "execution_count": 16,
   "metadata": {},
   "outputs": [],
   "source": [
    "from imblearn.over_sampling import SMOTE\n",
    "sm = SMOTE()\n",
    "X_train_sm, y_train_sm = sm.fit_resample(X, y)"
   ]
  },
  {
   "cell_type": "code",
   "execution_count": 17,
   "metadata": {},
   "outputs": [
    {
     "data": {
      "text/plain": [
       "1    7710\n",
       "0    1868\n",
       "Name: credit.policy, dtype: int64"
      ]
     },
     "execution_count": 17,
     "metadata": {},
     "output_type": "execute_result"
    }
   ],
   "source": [
    "y.value_counts()"
   ]
  },
  {
   "cell_type": "code",
   "execution_count": 18,
   "metadata": {},
   "outputs": [
    {
     "data": {
      "text/plain": [
       "1    7710\n",
       "0    7710\n",
       "Name: credit.policy, dtype: int64"
      ]
     },
     "execution_count": 18,
     "metadata": {},
     "output_type": "execute_result"
    }
   ],
   "source": [
    "y_train_sm.value_counts()"
   ]
  },
  {
   "cell_type": "markdown",
   "metadata": {},
   "source": [
    "#### The above values show that both types of data have been balanced.  \n",
    "#### Now, a dataframe can be built using the new data set for further analysis and model building. "
   ]
  },
  {
   "cell_type": "code",
   "execution_count": 19,
   "metadata": {},
   "outputs": [],
   "source": [
    "df1 = pd.concat([y_train_sm, X_train_sm], axis=1)"
   ]
  },
  {
   "cell_type": "code",
   "execution_count": 20,
   "metadata": {},
   "outputs": [
    {
     "name": "stdout",
     "output_type": "stream",
     "text": [
      "<class 'pandas.core.frame.DataFrame'>\n",
      "RangeIndex: 15420 entries, 0 to 15419\n",
      "Data columns (total 14 columns):\n",
      " #   Column             Non-Null Count  Dtype  \n",
      "---  ------             --------------  -----  \n",
      " 0   credit.policy      15420 non-null  int64  \n",
      " 1   purpose            15420 non-null  int64  \n",
      " 2   int.rate           15420 non-null  float64\n",
      " 3   installment        15420 non-null  float64\n",
      " 4   log.annual.inc     15420 non-null  float64\n",
      " 5   dti                15420 non-null  float64\n",
      " 6   fico               15420 non-null  int64  \n",
      " 7   days.with.cr.line  15420 non-null  float64\n",
      " 8   revol.bal          15420 non-null  int64  \n",
      " 9   revol.util         15420 non-null  float64\n",
      " 10  inq.last.6mths     15420 non-null  int64  \n",
      " 11  delinq.2yrs        15420 non-null  int64  \n",
      " 12  pub.rec            15420 non-null  int64  \n",
      " 13  not.fully.paid     15420 non-null  int64  \n",
      "dtypes: float64(6), int64(8)\n",
      "memory usage: 1.6 MB\n"
     ]
    }
   ],
   "source": [
    "df1.info()"
   ]
  },
  {
   "cell_type": "markdown",
   "metadata": {},
   "source": [
    "## 2. Exploratory data analysis of different factors of the dataset"
   ]
  },
  {
   "cell_type": "code",
   "execution_count": 21,
   "metadata": {},
   "outputs": [
    {
     "data": {
      "text/plain": [
       "credit.policy  purpose  int.rate  installment  log.annual.inc  dti        fico  days.with.cr.line  revol.bal  revol.util  inq.last.6mths  delinq.2yrs  pub.rec  not.fully.paid\n",
       "0              6        0.212100  188.930000   11.002100       0.360000   662   3660.041667        581        12.100000   5               2            0        0                 1\n",
       "               1        0.130492  558.663078   12.530369       15.979736  681   7127.613613        278134     84.507770   0               0            0        0                 1\n",
       "                        0.127612  232.086971   11.187797       25.418317  741   12217.745835       52959      70.572510   3               0            0        0                 1\n",
       "                        0.127675  245.506027   10.836572       19.463380  690   4437.981919        7193       34.461648   4               0            0        1                 1\n",
       "                        0.127717  155.773406   10.928864       17.201993  684   4319.163170        292        10.575834   4               0            0        0                 1\n",
       "                                                                                                                                                                                 ..\n",
       "               2        0.143013  372.741865   11.468297       23.512917  674   4057.618028        52100      85.766288   4               0            0        0                 1\n",
       "                        0.143050  299.700716   10.674454       7.447755   653   7568.591209        4861       73.738795   2               1            0        0                 1\n",
       "                                  398.505084   11.406472       15.964350  676   4135.862902        21584      85.434352   2               0            0        0                 1\n",
       "                        0.143118  479.329964   11.098482       24.653418  687   4607.773699        25580      81.957549   5               0            0        0                 1\n",
       "               0        0.071200  30.940000    10.819778       1.100000   772   5910.000000        0          0.800000    3               0            0        0                 1\n",
       "Length: 7710, dtype: int64"
      ]
     },
     "execution_count": 21,
     "metadata": {},
     "output_type": "execute_result"
    }
   ],
   "source": [
    "# The following statement gives glimpse of data for customers who do not meet the credit policy criteria\n",
    "df1[df1['credit.policy'] ==0].value_counts()"
   ]
  },
  {
   "cell_type": "code",
   "execution_count": 22,
   "metadata": {},
   "outputs": [
    {
     "data": {
      "image/png": "[encoded data removed]",
      "text/plain": [
       "<Figure size 1800x864 with 2 Axes>"
      ]
     },
     "metadata": {
      "needs_background": "light"
     },
     "output_type": "display_data"
    }
   ],
   "source": [
    "# Draw a heatmap with different variable\n",
    "plt.figure(figsize = (25, 12))\n",
    "sns.heatmap(df1.corr(), annot=True)\n",
    "plt.show()"
   ]
  },
  {
   "cell_type": "code",
   "execution_count": 23,
   "metadata": {},
   "outputs": [],
   "source": [
    "# From the above figure, we can tell that some of the columns are not relevant such as\n",
    "# 1. purpose\n",
    "# 2. dti\n",
    "# 3. days.with.cr.line\n",
    "# 4. revol.bal\n",
    "# 5. revol.util\n",
    "# 6. pub.rec"
   ]
  },
  {
   "cell_type": "code",
   "execution_count": 24,
   "metadata": {},
   "outputs": [
    {
     "data": {
      "text/plain": [
       "\"plt.figure(figsize = (25,16))\\ncols = ['installment', 'int.rate', 'log.annual.inc', 'fico', 'inq.last.6mths', 'not.fully.paid']\\nsns.pairplot(df1, vars= cols, kind= 'scatter', hue='credit.policy') \\n\""
      ]
     },
     "execution_count": 24,
     "metadata": {},
     "output_type": "execute_result"
    }
   ],
   "source": [
    "# Draw a pair plot for distribution and density\n",
    "'''plt.figure(figsize = (25,16))\n",
    "cols = ['installment', 'int.rate', 'log.annual.inc', 'fico', 'inq.last.6mths', 'not.fully.paid']\n",
    "sns.pairplot(df1, vars= cols, kind= 'scatter', hue='credit.policy') \n",
    "'''"
   ]
  },
  {
   "cell_type": "code",
   "execution_count": 25,
   "metadata": {},
   "outputs": [
    {
     "data": {
      "image/png": "[encoded data removed]",
      "text/plain": [
       "<Figure size 864x576 with 1 Axes>"
      ]
     },
     "metadata": {
      "needs_background": "light"
     },
     "output_type": "display_data"
    }
   ],
   "source": [
    "plt.figure(figsize = (12,8))\n",
    "sns.countplot(x='delinq.2yrs', data = df1)\n",
    "plt.show()"
   ]
  },
  {
   "cell_type": "code",
   "execution_count": 26,
   "metadata": {},
   "outputs": [
    {
     "data": {
      "text/plain": [
       "<seaborn.axisgrid.JointGrid at 0x7f01a9f7d510>"
      ]
     },
     "execution_count": 26,
     "metadata": {},
     "output_type": "execute_result"
    },
    {
     "data": {
      "image/png": "[encoded data removed]",
      "text/plain": [
       "<Figure size 432x432 with 3 Axes>"
      ]
     },
     "metadata": {
      "needs_background": "light"
     },
     "output_type": "display_data"
    }
   ],
   "source": [
    "sns.jointplot(x=df1['delinq.2yrs'], y=df1['credit.policy'], kind='reg')"
   ]
  },
  {
   "cell_type": "code",
   "execution_count": 27,
   "metadata": {},
   "outputs": [
    {
     "data": {
      "text/plain": [
       "<seaborn.axisgrid.JointGrid at 0x7f01a9d70450>"
      ]
     },
     "execution_count": 27,
     "metadata": {},
     "output_type": "execute_result"
    },
    {
     "data": {
      "image/png": "[encoded data removed]",
      "text/plain": [
       "<Figure size 432x432 with 3 Axes>"
      ]
     },
     "metadata": {
      "needs_background": "light"
     },
     "output_type": "display_data"
    }
   ],
   "source": [
    "sns.jointplot(x=df1['fico'], y=df1['credit.policy'], kind='reg')\n",
    "## The above graph shows that \n",
    "## (1) most of the customers' fico scores are between 650 and 700.\n",
    "## (2) Customers below fico score 750 tend of have default.\n",
    "## (3) Customers high than 750 have higher chances of not defaulting. (4) Customers below 675 do not meet credit policy."
   ]
  },
  {
   "cell_type": "code",
   "execution_count": 28,
   "metadata": {},
   "outputs": [
    {
     "data": {
      "text/plain": [
       "<seaborn.axisgrid.JointGrid at 0x7f01a9b71b10>"
      ]
     },
     "execution_count": 28,
     "metadata": {},
     "output_type": "execute_result"
    },
    {
     "data": {
      "image/png": "[encoded data removed]",
      "text/plain": [
       "<Figure size 432x432 with 3 Axes>"
      ]
     },
     "metadata": {
      "needs_background": "light"
     },
     "output_type": "display_data"
    }
   ],
   "source": [
    "sns.jointplot(x=df1['inq.last.6mths'], y=df1['credit.policy'], kind='reg')\n",
    "## The graph shows that the customer meets the credit policy if there has been no inquiry. \n",
    "## But as the number of inquiry increases, customers getting into default increases."
   ]
  },
  {
   "cell_type": "markdown",
   "metadata": {},
   "source": [
    "## 3. Additional Feature Engineering:"
   ]
  },
  {
   "cell_type": "code",
   "execution_count": 29,
   "metadata": {},
   "outputs": [
    {
     "name": "stdout",
     "output_type": "stream",
     "text": [
      "<class 'pandas.core.frame.DataFrame'>\n",
      "RangeIndex: 15420 entries, 0 to 15419\n",
      "Data columns (total 14 columns):\n",
      " #   Column             Non-Null Count  Dtype  \n",
      "---  ------             --------------  -----  \n",
      " 0   credit.policy      15420 non-null  int64  \n",
      " 1   purpose            15420 non-null  int64  \n",
      " 2   int.rate           15420 non-null  float64\n",
      " 3   installment        15420 non-null  float64\n",
      " 4   log.annual.inc     15420 non-null  float64\n",
      " 5   dti                15420 non-null  float64\n",
      " 6   fico               15420 non-null  int64  \n",
      " 7   days.with.cr.line  15420 non-null  float64\n",
      " 8   revol.bal          15420 non-null  int64  \n",
      " 9   revol.util         15420 non-null  float64\n",
      " 10  inq.last.6mths     15420 non-null  int64  \n",
      " 11  delinq.2yrs        15420 non-null  int64  \n",
      " 12  pub.rec            15420 non-null  int64  \n",
      " 13  not.fully.paid     15420 non-null  int64  \n",
      "dtypes: float64(6), int64(8)\n",
      "memory usage: 1.6 MB\n"
     ]
    }
   ],
   "source": [
    "df1.info()"
   ]
  },
  {
   "cell_type": "code",
   "execution_count": 30,
   "metadata": {},
   "outputs": [],
   "source": [
    "df2 = df1[['installment', 'log.annual.inc', 'int.rate', 'fico', 'inq.last.6mths', 'not.fully.paid']]"
   ]
  },
  {
   "cell_type": "code",
   "execution_count": 31,
   "metadata": {},
   "outputs": [
    {
     "name": "stdout",
     "output_type": "stream",
     "text": [
      "<class 'pandas.core.frame.DataFrame'>\n",
      "RangeIndex: 15420 entries, 0 to 15419\n",
      "Data columns (total 6 columns):\n",
      " #   Column          Non-Null Count  Dtype  \n",
      "---  ------          --------------  -----  \n",
      " 0   installment     15420 non-null  float64\n",
      " 1   log.annual.inc  15420 non-null  float64\n",
      " 2   int.rate        15420 non-null  float64\n",
      " 3   fico            15420 non-null  int64  \n",
      " 4   inq.last.6mths  15420 non-null  int64  \n",
      " 5   not.fully.paid  15420 non-null  int64  \n",
      "dtypes: float64(3), int64(3)\n",
      "memory usage: 722.9 KB\n"
     ]
    }
   ],
   "source": [
    "df2.info()"
   ]
  },
  {
   "cell_type": "code",
   "execution_count": 32,
   "metadata": {},
   "outputs": [
    {
     "data": {
      "text/html": [
       "<div>\n",
       "<style scoped>\n",
       "    .dataframe tbody tr th:only-of-type {\n",
       "        vertical-align: middle;\n",
       "    }\n",
       "\n",
       "    .dataframe tbody tr th {\n",
       "        vertical-align: top;\n",
       "    }\n",
       "\n",
       "    .dataframe thead th {\n",
       "        text-align: right;\n",
       "    }\n",
       "</style>\n",
       "<table border=\"1\" class=\"dataframe\">\n",
       "  <thead>\n",
       "    <tr style=\"text-align: right;\">\n",
       "      <th></th>\n",
       "      <th>installment</th>\n",
       "      <th>log.annual.inc</th>\n",
       "      <th>int.rate</th>\n",
       "      <th>fico</th>\n",
       "      <th>inq.last.6mths</th>\n",
       "      <th>not.fully.paid</th>\n",
       "    </tr>\n",
       "  </thead>\n",
       "  <tbody>\n",
       "    <tr>\n",
       "      <th>0</th>\n",
       "      <td>829.10</td>\n",
       "      <td>11.350407</td>\n",
       "      <td>0.1189</td>\n",
       "      <td>737</td>\n",
       "      <td>0</td>\n",
       "      <td>0</td>\n",
       "    </tr>\n",
       "    <tr>\n",
       "      <th>1</th>\n",
       "      <td>228.22</td>\n",
       "      <td>11.082143</td>\n",
       "      <td>0.1071</td>\n",
       "      <td>707</td>\n",
       "      <td>0</td>\n",
       "      <td>0</td>\n",
       "    </tr>\n",
       "    <tr>\n",
       "      <th>2</th>\n",
       "      <td>366.86</td>\n",
       "      <td>10.373491</td>\n",
       "      <td>0.1357</td>\n",
       "      <td>682</td>\n",
       "      <td>1</td>\n",
       "      <td>0</td>\n",
       "    </tr>\n",
       "    <tr>\n",
       "      <th>3</th>\n",
       "      <td>162.34</td>\n",
       "      <td>11.350407</td>\n",
       "      <td>0.1008</td>\n",
       "      <td>712</td>\n",
       "      <td>1</td>\n",
       "      <td>0</td>\n",
       "    </tr>\n",
       "    <tr>\n",
       "      <th>4</th>\n",
       "      <td>102.92</td>\n",
       "      <td>11.299732</td>\n",
       "      <td>0.1426</td>\n",
       "      <td>667</td>\n",
       "      <td>0</td>\n",
       "      <td>0</td>\n",
       "    </tr>\n",
       "  </tbody>\n",
       "</table>\n",
       "</div>"
      ],
      "text/plain": [
       "   installment  log.annual.inc  int.rate  fico  inq.last.6mths  not.fully.paid\n",
       "0       829.10       11.350407    0.1189   737               0               0\n",
       "1       228.22       11.082143    0.1071   707               0               0\n",
       "2       366.86       10.373491    0.1357   682               1               0\n",
       "3       162.34       11.350407    0.1008   712               1               0\n",
       "4       102.92       11.299732    0.1426   667               0               0"
      ]
     },
     "execution_count": 32,
     "metadata": {},
     "output_type": "execute_result"
    }
   ],
   "source": [
    "df2.head()"
   ]
  },
  {
   "cell_type": "code",
   "execution_count": 33,
   "metadata": {},
   "outputs": [],
   "source": [
    "X = df2\n",
    "y = df1['credit.policy']"
   ]
  },
  {
   "cell_type": "code",
   "execution_count": 34,
   "metadata": {},
   "outputs": [
    {
     "data": {
      "text/html": [
       "<div>\n",
       "<style scoped>\n",
       "    .dataframe tbody tr th:only-of-type {\n",
       "        vertical-align: middle;\n",
       "    }\n",
       "\n",
       "    .dataframe tbody tr th {\n",
       "        vertical-align: top;\n",
       "    }\n",
       "\n",
       "    .dataframe thead th {\n",
       "        text-align: right;\n",
       "    }\n",
       "</style>\n",
       "<table border=\"1\" class=\"dataframe\">\n",
       "  <thead>\n",
       "    <tr style=\"text-align: right;\">\n",
       "      <th></th>\n",
       "      <th>installment</th>\n",
       "      <th>log.annual.inc</th>\n",
       "      <th>int.rate</th>\n",
       "      <th>fico</th>\n",
       "      <th>inq.last.6mths</th>\n",
       "      <th>not.fully.paid</th>\n",
       "    </tr>\n",
       "  </thead>\n",
       "  <tbody>\n",
       "    <tr>\n",
       "      <th>0</th>\n",
       "      <td>829.10</td>\n",
       "      <td>11.350407</td>\n",
       "      <td>0.1189</td>\n",
       "      <td>737</td>\n",
       "      <td>0</td>\n",
       "      <td>0</td>\n",
       "    </tr>\n",
       "    <tr>\n",
       "      <th>1</th>\n",
       "      <td>228.22</td>\n",
       "      <td>11.082143</td>\n",
       "      <td>0.1071</td>\n",
       "      <td>707</td>\n",
       "      <td>0</td>\n",
       "      <td>0</td>\n",
       "    </tr>\n",
       "    <tr>\n",
       "      <th>2</th>\n",
       "      <td>366.86</td>\n",
       "      <td>10.373491</td>\n",
       "      <td>0.1357</td>\n",
       "      <td>682</td>\n",
       "      <td>1</td>\n",
       "      <td>0</td>\n",
       "    </tr>\n",
       "    <tr>\n",
       "      <th>3</th>\n",
       "      <td>162.34</td>\n",
       "      <td>11.350407</td>\n",
       "      <td>0.1008</td>\n",
       "      <td>712</td>\n",
       "      <td>1</td>\n",
       "      <td>0</td>\n",
       "    </tr>\n",
       "    <tr>\n",
       "      <th>4</th>\n",
       "      <td>102.92</td>\n",
       "      <td>11.299732</td>\n",
       "      <td>0.1426</td>\n",
       "      <td>667</td>\n",
       "      <td>0</td>\n",
       "      <td>0</td>\n",
       "    </tr>\n",
       "  </tbody>\n",
       "</table>\n",
       "</div>"
      ],
      "text/plain": [
       "   installment  log.annual.inc  int.rate  fico  inq.last.6mths  not.fully.paid\n",
       "0       829.10       11.350407    0.1189   737               0               0\n",
       "1       228.22       11.082143    0.1071   707               0               0\n",
       "2       366.86       10.373491    0.1357   682               1               0\n",
       "3       162.34       11.350407    0.1008   712               1               0\n",
       "4       102.92       11.299732    0.1426   667               0               0"
      ]
     },
     "execution_count": 34,
     "metadata": {},
     "output_type": "execute_result"
    }
   ],
   "source": [
    "X.head()"
   ]
  },
  {
   "cell_type": "code",
   "execution_count": 35,
   "metadata": {},
   "outputs": [
    {
     "data": {
      "text/plain": [
       "0    1\n",
       "1    1\n",
       "2    1\n",
       "3    1\n",
       "4    1\n",
       "Name: credit.policy, dtype: int64"
      ]
     },
     "execution_count": 35,
     "metadata": {},
     "output_type": "execute_result"
    }
   ],
   "source": [
    "y.head()"
   ]
  },
  {
   "cell_type": "code",
   "execution_count": 36,
   "metadata": {},
   "outputs": [
    {
     "data": {
      "text/plain": [
       "1    7710\n",
       "0    7710\n",
       "Name: credit.policy, dtype: int64"
      ]
     },
     "execution_count": 36,
     "metadata": {},
     "output_type": "execute_result"
    }
   ],
   "source": [
    "y.value_counts()"
   ]
  },
  {
   "cell_type": "markdown",
   "metadata": {},
   "source": [
    "## 4. Modeling: After applying EDA and feature engineering, you are now ready to build the predictive models In this part, you will create a deep learning model using Keras with Tensorflow backend"
   ]
  },
  {
   "cell_type": "code",
   "execution_count": 38,
   "metadata": {},
   "outputs": [],
   "source": [
    "import tensorflow as tf\n",
    "from tensorflow import keras"
   ]
  },
  {
   "cell_type": "code",
   "execution_count": 39,
   "metadata": {},
   "outputs": [],
   "source": [
    "from sklearn.model_selection import train_test_split\n",
    "X_train, X_test, y_train, y_test = train_test_split(X, \n",
    "                                                    y, \n",
    "                                                    stratify = y, \n",
    "                                                    test_size = 0.2, # Train dataset is 80%\n",
    "                                                    random_state = 12345)"
   ]
  },
  {
   "cell_type": "code",
   "execution_count": 40,
   "metadata": {},
   "outputs": [
    {
     "data": {
      "text/plain": [
       "(12336, 6)"
      ]
     },
     "execution_count": 40,
     "metadata": {},
     "output_type": "execute_result"
    }
   ],
   "source": [
    "X_train.shape"
   ]
  },
  {
   "cell_type": "code",
   "execution_count": 41,
   "metadata": {},
   "outputs": [
    {
     "data": {
      "text/plain": [
       "(3084, 6)"
      ]
     },
     "execution_count": 41,
     "metadata": {},
     "output_type": "execute_result"
    }
   ],
   "source": [
    "X_test.shape"
   ]
  },
  {
   "cell_type": "code",
   "execution_count": 42,
   "metadata": {},
   "outputs": [],
   "source": [
    "# Import tensorflow \n",
    "import tensorflow as tf\n",
    "from tensorflow.keras.models import Sequential\n",
    "from tensorflow.keras.layers import Dense, Input\n"
   ]
  },
  {
   "cell_type": "code",
   "execution_count": 43,
   "metadata": {},
   "outputs": [],
   "source": [
    "model = Sequential() "
   ]
  },
  {
   "cell_type": "code",
   "execution_count": 44,
   "metadata": {},
   "outputs": [],
   "source": [
    "from sklearn.preprocessing import StandardScaler\n",
    "scaler = StandardScaler()\n",
    "X_train_scaled = scaler.fit_transform(X_train)\n",
    "X_test_scaled = scaler.transform(X_test)"
   ]
  },
  {
   "cell_type": "code",
   "execution_count": 45,
   "metadata": {},
   "outputs": [],
   "source": [
    "# Create the input layer \n",
    "model.add(Input(shape=(X_train_scaled.shape[1],\n",
    "                      )\n",
    "               )\n",
    "         )\n",
    "\n",
    "# Create a hidden layer with 128 neurons\n",
    "model.add(Dense(units=256, \n",
    "                activation='relu'\n",
    "               )\n",
    "         )\n",
    "\n",
    "# Create a hidden layer with 128 neurons\n",
    "model.add(Dense(units=128, \n",
    "                activation='relu'\n",
    "               )\n",
    "         )\n",
    "\n",
    "# Create a hidden layer with 64 neurons\n",
    "model.add(Dense(units=64,\n",
    "                activation='relu'\n",
    "               )\n",
    "         )\n",
    "\n",
    "# Create the output layer\n",
    "model.add(Dense(units=1, \n",
    "                activation='sigmoid'\n",
    "               )\n",
    "         )"
   ]
  },
  {
   "cell_type": "code",
   "execution_count": 46,
   "metadata": {},
   "outputs": [
    {
     "name": "stdout",
     "output_type": "stream",
     "text": [
      "Model: \"sequential\"\n",
      "_________________________________________________________________\n",
      " Layer (type)                Output Shape              Param #   \n",
      "=================================================================\n",
      " dense (Dense)               (None, 256)               1792      \n",
      "                                                                 \n",
      " dense_1 (Dense)             (None, 128)               32896     \n",
      "                                                                 \n",
      " dense_2 (Dense)             (None, 64)                8256      \n",
      "                                                                 \n",
      " dense_3 (Dense)             (None, 1)                 65        \n",
      "                                                                 \n",
      "=================================================================\n",
      "Total params: 43,009\n",
      "Trainable params: 43,009\n",
      "Non-trainable params: 0\n",
      "_________________________________________________________________\n"
     ]
    }
   ],
   "source": [
    "model.summary()"
   ]
  },
  {
   "cell_type": "code",
   "execution_count": 47,
   "metadata": {},
   "outputs": [],
   "source": [
    "model.compile(optimizer='adam', \n",
    "              loss='binary_crossentropy', \n",
    "              metrics=['accuracy']) "
   ]
  },
  {
   "cell_type": "code",
   "execution_count": 48,
   "metadata": {},
   "outputs": [
    {
     "name": "stdout",
     "output_type": "stream",
     "text": [
      "Epoch 1/60\n",
      "386/386 [==============================] - 7s 3ms/step - loss: 0.3969 - accuracy: 0.8294 - val_loss: 0.3640 - val_accuracy: 0.8372\n",
      "Epoch 2/60\n",
      "386/386 [==============================] - 1s 2ms/step - loss: 0.3547 - accuracy: 0.8411 - val_loss: 0.3532 - val_accuracy: 0.8382\n",
      "Epoch 3/60\n",
      "386/386 [==============================] - 1s 2ms/step - loss: 0.3392 - accuracy: 0.8473 - val_loss: 0.3296 - val_accuracy: 0.8492\n",
      "Epoch 4/60\n",
      "386/386 [==============================] - 1s 2ms/step - loss: 0.3264 - accuracy: 0.8533 - val_loss: 0.3214 - val_accuracy: 0.8512\n",
      "Epoch 5/60\n",
      "386/386 [==============================] - 1s 2ms/step - loss: 0.3197 - accuracy: 0.8545 - val_loss: 0.3225 - val_accuracy: 0.8521\n",
      "Epoch 6/60\n",
      "386/386 [==============================] - 1s 2ms/step - loss: 0.3151 - accuracy: 0.8547 - val_loss: 0.3142 - val_accuracy: 0.8531\n",
      "Epoch 7/60\n",
      "386/386 [==============================] - 1s 2ms/step - loss: 0.3111 - accuracy: 0.8566 - val_loss: 0.3175 - val_accuracy: 0.8515\n",
      "Epoch 8/60\n",
      "386/386 [==============================] - 1s 2ms/step - loss: 0.3050 - accuracy: 0.8605 - val_loss: 0.3050 - val_accuracy: 0.8557\n",
      "Epoch 9/60\n",
      "386/386 [==============================] - 1s 2ms/step - loss: 0.3030 - accuracy: 0.8599 - val_loss: 0.3150 - val_accuracy: 0.8512\n",
      "Epoch 10/60\n",
      "386/386 [==============================] - 1s 2ms/step - loss: 0.2990 - accuracy: 0.8638 - val_loss: 0.3042 - val_accuracy: 0.8628\n",
      "Epoch 11/60\n",
      "386/386 [==============================] - 1s 2ms/step - loss: 0.2985 - accuracy: 0.8635 - val_loss: 0.3032 - val_accuracy: 0.8632\n",
      "Epoch 12/60\n",
      "386/386 [==============================] - 1s 2ms/step - loss: 0.2956 - accuracy: 0.8633 - val_loss: 0.3008 - val_accuracy: 0.8573\n",
      "Epoch 13/60\n",
      "386/386 [==============================] - 1s 2ms/step - loss: 0.2918 - accuracy: 0.8671 - val_loss: 0.3113 - val_accuracy: 0.8577\n",
      "Epoch 14/60\n",
      "386/386 [==============================] - 1s 2ms/step - loss: 0.2890 - accuracy: 0.8675 - val_loss: 0.3029 - val_accuracy: 0.8580\n",
      "Epoch 15/60\n",
      "386/386 [==============================] - 1s 2ms/step - loss: 0.2890 - accuracy: 0.8679 - val_loss: 0.2963 - val_accuracy: 0.8645\n",
      "Epoch 16/60\n",
      "386/386 [==============================] - 1s 2ms/step - loss: 0.2853 - accuracy: 0.8701 - val_loss: 0.3086 - val_accuracy: 0.8586\n",
      "Epoch 17/60\n",
      "386/386 [==============================] - 1s 2ms/step - loss: 0.2847 - accuracy: 0.8675 - val_loss: 0.3101 - val_accuracy: 0.8596\n",
      "Epoch 18/60\n",
      "386/386 [==============================] - 1s 2ms/step - loss: 0.2811 - accuracy: 0.8714 - val_loss: 0.3018 - val_accuracy: 0.8661\n",
      "Epoch 19/60\n",
      "386/386 [==============================] - 1s 2ms/step - loss: 0.2797 - accuracy: 0.8732 - val_loss: 0.3039 - val_accuracy: 0.8599\n",
      "Epoch 20/60\n",
      "386/386 [==============================] - 1s 2ms/step - loss: 0.2768 - accuracy: 0.8734 - val_loss: 0.3092 - val_accuracy: 0.8641\n",
      "Epoch 21/60\n",
      "386/386 [==============================] - 1s 2ms/step - loss: 0.2761 - accuracy: 0.8748 - val_loss: 0.3151 - val_accuracy: 0.8625\n",
      "Epoch 22/60\n",
      "386/386 [==============================] - 1s 2ms/step - loss: 0.2747 - accuracy: 0.8780 - val_loss: 0.3010 - val_accuracy: 0.8677\n",
      "Epoch 23/60\n",
      "386/386 [==============================] - 1s 2ms/step - loss: 0.2722 - accuracy: 0.8750 - val_loss: 0.3055 - val_accuracy: 0.8622\n",
      "Epoch 24/60\n",
      "386/386 [==============================] - 1s 2ms/step - loss: 0.2701 - accuracy: 0.8779 - val_loss: 0.3154 - val_accuracy: 0.8619\n",
      "Epoch 25/60\n",
      "386/386 [==============================] - 1s 2ms/step - loss: 0.2697 - accuracy: 0.8794 - val_loss: 0.3047 - val_accuracy: 0.8638\n",
      "Epoch 26/60\n",
      "386/386 [==============================] - 1s 2ms/step - loss: 0.2686 - accuracy: 0.8798 - val_loss: 0.3054 - val_accuracy: 0.8658\n",
      "Epoch 27/60\n",
      "386/386 [==============================] - 1s 2ms/step - loss: 0.2662 - accuracy: 0.8791 - val_loss: 0.3055 - val_accuracy: 0.8664\n",
      "Epoch 28/60\n",
      "386/386 [==============================] - 1s 2ms/step - loss: 0.2617 - accuracy: 0.8810 - val_loss: 0.3056 - val_accuracy: 0.8661\n",
      "Epoch 29/60\n",
      "386/386 [==============================] - 1s 2ms/step - loss: 0.2622 - accuracy: 0.8794 - val_loss: 0.3067 - val_accuracy: 0.8632\n",
      "Epoch 30/60\n",
      "386/386 [==============================] - 1s 2ms/step - loss: 0.2594 - accuracy: 0.8848 - val_loss: 0.3132 - val_accuracy: 0.8619\n",
      "Epoch 31/60\n",
      "386/386 [==============================] - 1s 2ms/step - loss: 0.2563 - accuracy: 0.8821 - val_loss: 0.3134 - val_accuracy: 0.8641\n",
      "Epoch 32/60\n",
      "386/386 [==============================] - 1s 2ms/step - loss: 0.2548 - accuracy: 0.8855 - val_loss: 0.3092 - val_accuracy: 0.8690\n",
      "Epoch 33/60\n",
      "386/386 [==============================] - 1s 2ms/step - loss: 0.2520 - accuracy: 0.8848 - val_loss: 0.2990 - val_accuracy: 0.8661\n",
      "Epoch 34/60\n",
      "386/386 [==============================] - 1s 2ms/step - loss: 0.2508 - accuracy: 0.8859 - val_loss: 0.3016 - val_accuracy: 0.8703\n",
      "Epoch 35/60\n",
      "386/386 [==============================] - 1s 2ms/step - loss: 0.2474 - accuracy: 0.8886 - val_loss: 0.3177 - val_accuracy: 0.8674\n",
      "Epoch 36/60\n",
      "386/386 [==============================] - 1s 2ms/step - loss: 0.2467 - accuracy: 0.8858 - val_loss: 0.3182 - val_accuracy: 0.8654\n",
      "Epoch 37/60\n",
      "386/386 [==============================] - 1s 2ms/step - loss: 0.2465 - accuracy: 0.8878 - val_loss: 0.3220 - val_accuracy: 0.8664\n",
      "Epoch 38/60\n",
      "386/386 [==============================] - 1s 2ms/step - loss: 0.2423 - accuracy: 0.8903 - val_loss: 0.3139 - val_accuracy: 0.8716\n",
      "Epoch 39/60\n",
      "386/386 [==============================] - 1s 2ms/step - loss: 0.2397 - accuracy: 0.8931 - val_loss: 0.3185 - val_accuracy: 0.8674\n",
      "Epoch 40/60\n",
      "386/386 [==============================] - 1s 2ms/step - loss: 0.2378 - accuracy: 0.8940 - val_loss: 0.3284 - val_accuracy: 0.8632\n",
      "Epoch 41/60\n",
      "386/386 [==============================] - 1s 2ms/step - loss: 0.2365 - accuracy: 0.8929 - val_loss: 0.3096 - val_accuracy: 0.8703\n",
      "Epoch 42/60\n",
      "386/386 [==============================] - 1s 2ms/step - loss: 0.2312 - accuracy: 0.8965 - val_loss: 0.3042 - val_accuracy: 0.8696\n",
      "Epoch 43/60\n",
      "386/386 [==============================] - 1s 2ms/step - loss: 0.2289 - accuracy: 0.8968 - val_loss: 0.3247 - val_accuracy: 0.8661\n",
      "Epoch 44/60\n",
      "386/386 [==============================] - 1s 2ms/step - loss: 0.2297 - accuracy: 0.8947 - val_loss: 0.3107 - val_accuracy: 0.8680\n",
      "Epoch 45/60\n",
      "386/386 [==============================] - 1s 2ms/step - loss: 0.2278 - accuracy: 0.8956 - val_loss: 0.3203 - val_accuracy: 0.8628\n",
      "Epoch 46/60\n",
      "386/386 [==============================] - 1s 2ms/step - loss: 0.2249 - accuracy: 0.8972 - val_loss: 0.3216 - val_accuracy: 0.8684\n",
      "Epoch 47/60\n",
      "386/386 [==============================] - 1s 2ms/step - loss: 0.2225 - accuracy: 0.9005 - val_loss: 0.3120 - val_accuracy: 0.8671\n",
      "Epoch 48/60\n",
      "386/386 [==============================] - 1s 2ms/step - loss: 0.2196 - accuracy: 0.8996 - val_loss: 0.3446 - val_accuracy: 0.8583\n",
      "Epoch 49/60\n",
      "386/386 [==============================] - 1s 2ms/step - loss: 0.2232 - accuracy: 0.8975 - val_loss: 0.3188 - val_accuracy: 0.8651\n",
      "Epoch 50/60\n",
      "386/386 [==============================] - 1s 2ms/step - loss: 0.2156 - accuracy: 0.9028 - val_loss: 0.3501 - val_accuracy: 0.8622\n",
      "Epoch 51/60\n",
      "386/386 [==============================] - 1s 2ms/step - loss: 0.2141 - accuracy: 0.9036 - val_loss: 0.3387 - val_accuracy: 0.8658\n",
      "Epoch 52/60\n",
      "386/386 [==============================] - 1s 2ms/step - loss: 0.2117 - accuracy: 0.9053 - val_loss: 0.3216 - val_accuracy: 0.8654\n",
      "Epoch 53/60\n",
      "386/386 [==============================] - 1s 2ms/step - loss: 0.2097 - accuracy: 0.9050 - val_loss: 0.3309 - val_accuracy: 0.8625\n",
      "Epoch 54/60\n",
      "386/386 [==============================] - 1s 2ms/step - loss: 0.2127 - accuracy: 0.9055 - val_loss: 0.3387 - val_accuracy: 0.8658\n",
      "Epoch 55/60\n",
      "386/386 [==============================] - 1s 2ms/step - loss: 0.2068 - accuracy: 0.9077 - val_loss: 0.3422 - val_accuracy: 0.8654\n",
      "Epoch 56/60\n",
      "386/386 [==============================] - 1s 2ms/step - loss: 0.2010 - accuracy: 0.9096 - val_loss: 0.3407 - val_accuracy: 0.8690\n",
      "Epoch 57/60\n",
      "386/386 [==============================] - 1s 2ms/step - loss: 0.2034 - accuracy: 0.9099 - val_loss: 0.3375 - val_accuracy: 0.8615\n",
      "Epoch 58/60\n",
      "386/386 [==============================] - 1s 2ms/step - loss: 0.2029 - accuracy: 0.9099 - val_loss: 0.3723 - val_accuracy: 0.8580\n",
      "Epoch 59/60\n",
      "386/386 [==============================] - 1s 2ms/step - loss: 0.2009 - accuracy: 0.9112 - val_loss: 0.3491 - val_accuracy: 0.8696\n",
      "Epoch 60/60\n",
      "386/386 [==============================] - 1s 2ms/step - loss: 0.1964 - accuracy: 0.9128 - val_loss: 0.3573 - val_accuracy: 0.8654\n"
     ]
    }
   ],
   "source": [
    "result=model.fit(X_train_scaled, \n",
    "                 y_train,\n",
    "                 validation_data = (X_test_scaled, y_test), \n",
    "                 epochs=60)"
   ]
  },
  {
   "cell_type": "code",
   "execution_count": 49,
   "metadata": {},
   "outputs": [
    {
     "data": {
      "text/html": [
       "<div>\n",
       "<style scoped>\n",
       "    .dataframe tbody tr th:only-of-type {\n",
       "        vertical-align: middle;\n",
       "    }\n",
       "\n",
       "    .dataframe tbody tr th {\n",
       "        vertical-align: top;\n",
       "    }\n",
       "\n",
       "    .dataframe thead th {\n",
       "        text-align: right;\n",
       "    }\n",
       "</style>\n",
       "<table border=\"1\" class=\"dataframe\">\n",
       "  <thead>\n",
       "    <tr style=\"text-align: right;\">\n",
       "      <th></th>\n",
       "      <th>loss</th>\n",
       "      <th>accuracy</th>\n",
       "      <th>val_loss</th>\n",
       "      <th>val_accuracy</th>\n",
       "    </tr>\n",
       "  </thead>\n",
       "  <tbody>\n",
       "    <tr>\n",
       "      <th>0</th>\n",
       "      <td>0.396881</td>\n",
       "      <td>0.829442</td>\n",
       "      <td>0.364035</td>\n",
       "      <td>0.837224</td>\n",
       "    </tr>\n",
       "    <tr>\n",
       "      <th>1</th>\n",
       "      <td>0.354658</td>\n",
       "      <td>0.841115</td>\n",
       "      <td>0.353203</td>\n",
       "      <td>0.838197</td>\n",
       "    </tr>\n",
       "    <tr>\n",
       "      <th>2</th>\n",
       "      <td>0.339183</td>\n",
       "      <td>0.847276</td>\n",
       "      <td>0.329622</td>\n",
       "      <td>0.849222</td>\n",
       "    </tr>\n",
       "    <tr>\n",
       "      <th>3</th>\n",
       "      <td>0.326404</td>\n",
       "      <td>0.853275</td>\n",
       "      <td>0.321397</td>\n",
       "      <td>0.851167</td>\n",
       "    </tr>\n",
       "    <tr>\n",
       "      <th>4</th>\n",
       "      <td>0.319739</td>\n",
       "      <td>0.854491</td>\n",
       "      <td>0.322490</td>\n",
       "      <td>0.852140</td>\n",
       "    </tr>\n",
       "  </tbody>\n",
       "</table>\n",
       "</div>"
      ],
      "text/plain": [
       "       loss  accuracy  val_loss  val_accuracy\n",
       "0  0.396881  0.829442  0.364035      0.837224\n",
       "1  0.354658  0.841115  0.353203      0.838197\n",
       "2  0.339183  0.847276  0.329622      0.849222\n",
       "3  0.326404  0.853275  0.321397      0.851167\n",
       "4  0.319739  0.854491  0.322490      0.852140"
      ]
     },
     "execution_count": 49,
     "metadata": {},
     "output_type": "execute_result"
    }
   ],
   "source": [
    "history = pd.DataFrame(result.history)\n",
    "history.head()"
   ]
  },
  {
   "cell_type": "code",
   "execution_count": null,
   "metadata": {},
   "outputs": [],
   "source": [
    "plt.figure(figsize = (25,6))\n",
    "plt.plot(history.val_loss, label='Test Set Loss')\n",
    "plt.plot(history.loss, label='Training Set Loss')\n",
    "plt.title('Epochs vs Loss')\n",
    "plt.xlabel('Epochs')\n",
    "plt.ylabel('Loss')\n",
    "plt.legend()\n",
    "plt.show()"
   ]
  },
  {
   "cell_type": "code",
   "execution_count": 50,
   "metadata": {},
   "outputs": [
    {
     "data": {
      "image/png": "[encoded data removed]",
      "text/plain": [
       "<Figure size 1800x432 with 1 Axes>"
      ]
     },
     "metadata": {
      "needs_background": "light"
     },
     "output_type": "display_data"
    }
   ],
   "source": [
    "plt.figure(figsize = (25,6))\n",
    "plt.plot(history.val_accuracy, label='Test Set Accuracy')\n",
    "plt.plot(history.accuracy, label='Training Set Accuracy')\n",
    "plt.title('Epochs vs Accuracy')\n",
    "plt.xlabel('Epochs')\n",
    "plt.ylabel('Accuracy')\n",
    "plt.legend()\n",
    "plt.show()"
   ]
  },
  {
   "cell_type": "markdown",
   "metadata": {},
   "source": [
    "### L1 Regularization"
   ]
  },
  {
   "cell_type": "code",
   "execution_count": 52,
   "metadata": {},
   "outputs": [],
   "source": [
    "model_reg = Sequential()"
   ]
  },
  {
   "cell_type": "code",
   "execution_count": 54,
   "metadata": {},
   "outputs": [],
   "source": [
    "model_reg.add(Input(shape = (X_train_scaled.shape[1], )))\n",
    "model_reg.add(Dense(units=128,\n",
    "                    activation='relu',\n",
    "                    kernel_regularizer=tf.keras.regularizers.L1()\n",
    "                   )\n",
    "             )\n",
    "model_reg.add(Dense(units=64, activation='relu'))\n",
    "model_reg.add(Dense(units=32, activation='relu'))\n",
    "model_reg.add(Dense(units=1, activation='sigmoid'))"
   ]
  },
  {
   "cell_type": "code",
   "execution_count": 56,
   "metadata": {},
   "outputs": [],
   "source": [
    "model_reg.compile(optimizer='adam',\n",
    "                  loss = 'binary_crossentropy',\n",
    "                  metrics = 'accuracy')"
   ]
  },
  {
   "cell_type": "code",
   "execution_count": 57,
   "metadata": {},
   "outputs": [
    {
     "name": "stdout",
     "output_type": "stream",
     "text": [
      "Model: \"sequential_1\"\n",
      "_________________________________________________________________\n",
      " Layer (type)                Output Shape              Param #   \n",
      "=================================================================\n",
      " dense_4 (Dense)             (None, 128)               896       \n",
      "                                                                 \n",
      " dense_5 (Dense)             (None, 64)                8256      \n",
      "                                                                 \n",
      " dense_6 (Dense)             (None, 32)                2080      \n",
      "                                                                 \n",
      " dense_7 (Dense)             (None, 1)                 33        \n",
      "                                                                 \n",
      " input_3 (InputLayer)        multiple                  0         \n",
      "                                                                 \n",
      " dense_8 (Dense)             (None, 128)               256       \n",
      "                                                                 \n",
      " dense_9 (Dense)             (None, 64)                8256      \n",
      "                                                                 \n",
      " dense_10 (Dense)            (None, 32)                2080      \n",
      "                                                                 \n",
      " dense_11 (Dense)            (None, 1)                 33        \n",
      "                                                                 \n",
      "=================================================================\n",
      "Total params: 21,890\n",
      "Trainable params: 21,890\n",
      "Non-trainable params: 0\n",
      "_________________________________________________________________\n"
     ]
    }
   ],
   "source": [
    "model_reg.summary()"
   ]
  },
  {
   "cell_type": "code",
   "execution_count": 58,
   "metadata": {},
   "outputs": [
    {
     "name": "stdout",
     "output_type": "stream",
     "text": [
      "Epoch 1/100\n",
      "386/386 [==============================] - 2s 3ms/step - loss: 0.7053 - accuracy: 0.7807 - val_loss: 0.4530 - val_accuracy: 0.8333\n",
      "Epoch 2/100\n",
      "386/386 [==============================] - 1s 2ms/step - loss: 0.4494 - accuracy: 0.8223 - val_loss: 0.4284 - val_accuracy: 0.8382\n",
      "Epoch 3/100\n",
      "386/386 [==============================] - 1s 2ms/step - loss: 0.4332 - accuracy: 0.8267 - val_loss: 0.4179 - val_accuracy: 0.8337\n",
      "Epoch 4/100\n",
      "386/386 [==============================] - 1s 2ms/step - loss: 0.4155 - accuracy: 0.8348 - val_loss: 0.4043 - val_accuracy: 0.8369\n",
      "Epoch 5/100\n",
      "386/386 [==============================] - 1s 2ms/step - loss: 0.4072 - accuracy: 0.8331 - val_loss: 0.4007 - val_accuracy: 0.8421\n",
      "Epoch 6/100\n",
      "386/386 [==============================] - 1s 2ms/step - loss: 0.4033 - accuracy: 0.8328 - val_loss: 0.4002 - val_accuracy: 0.8379\n",
      "Epoch 7/100\n",
      "386/386 [==============================] - 1s 2ms/step - loss: 0.3904 - accuracy: 0.8352 - val_loss: 0.3743 - val_accuracy: 0.8453\n",
      "Epoch 8/100\n",
      "386/386 [==============================] - 1s 2ms/step - loss: 0.3803 - accuracy: 0.8445 - val_loss: 0.3681 - val_accuracy: 0.8466\n",
      "Epoch 9/100\n",
      "386/386 [==============================] - 1s 2ms/step - loss: 0.3769 - accuracy: 0.8418 - val_loss: 0.3658 - val_accuracy: 0.8495\n",
      "Epoch 10/100\n",
      "386/386 [==============================] - 1s 2ms/step - loss: 0.3696 - accuracy: 0.8429 - val_loss: 0.3630 - val_accuracy: 0.8437\n",
      "Epoch 11/100\n",
      "386/386 [==============================] - 1s 2ms/step - loss: 0.3694 - accuracy: 0.8424 - val_loss: 0.3567 - val_accuracy: 0.8444\n",
      "Epoch 12/100\n",
      "386/386 [==============================] - 1s 2ms/step - loss: 0.3672 - accuracy: 0.8429 - val_loss: 0.3630 - val_accuracy: 0.8405\n",
      "Epoch 13/100\n",
      "386/386 [==============================] - 1s 2ms/step - loss: 0.3653 - accuracy: 0.8411 - val_loss: 0.3600 - val_accuracy: 0.8502\n",
      "Epoch 14/100\n",
      "386/386 [==============================] - 1s 2ms/step - loss: 0.3660 - accuracy: 0.8418 - val_loss: 0.3493 - val_accuracy: 0.8528\n",
      "Epoch 15/100\n",
      "386/386 [==============================] - 1s 2ms/step - loss: 0.3593 - accuracy: 0.8439 - val_loss: 0.3469 - val_accuracy: 0.8521\n",
      "Epoch 16/100\n",
      "386/386 [==============================] - 1s 2ms/step - loss: 0.3589 - accuracy: 0.8448 - val_loss: 0.3508 - val_accuracy: 0.8502\n",
      "Epoch 17/100\n",
      "386/386 [==============================] - 1s 2ms/step - loss: 0.3539 - accuracy: 0.8487 - val_loss: 0.3545 - val_accuracy: 0.8547\n",
      "Epoch 18/100\n",
      "386/386 [==============================] - 1s 2ms/step - loss: 0.3535 - accuracy: 0.8505 - val_loss: 0.3445 - val_accuracy: 0.8525\n",
      "Epoch 19/100\n",
      "386/386 [==============================] - 1s 2ms/step - loss: 0.3546 - accuracy: 0.8471 - val_loss: 0.3559 - val_accuracy: 0.8476\n",
      "Epoch 20/100\n",
      "386/386 [==============================] - 1s 2ms/step - loss: 0.3501 - accuracy: 0.8483 - val_loss: 0.3474 - val_accuracy: 0.8479\n",
      "Epoch 21/100\n",
      "386/386 [==============================] - 1s 2ms/step - loss: 0.3471 - accuracy: 0.8538 - val_loss: 0.3443 - val_accuracy: 0.8547\n",
      "Epoch 22/100\n",
      "386/386 [==============================] - 1s 2ms/step - loss: 0.3470 - accuracy: 0.8529 - val_loss: 0.3526 - val_accuracy: 0.8525\n",
      "Epoch 23/100\n",
      "386/386 [==============================] - 1s 2ms/step - loss: 0.3481 - accuracy: 0.8525 - val_loss: 0.3404 - val_accuracy: 0.8502\n",
      "Epoch 24/100\n",
      "386/386 [==============================] - 1s 2ms/step - loss: 0.3467 - accuracy: 0.8499 - val_loss: 0.3448 - val_accuracy: 0.8518\n",
      "Epoch 25/100\n",
      "386/386 [==============================] - 1s 2ms/step - loss: 0.3449 - accuracy: 0.8525 - val_loss: 0.3387 - val_accuracy: 0.8534\n",
      "Epoch 26/100\n",
      "386/386 [==============================] - 1s 2ms/step - loss: 0.3444 - accuracy: 0.8500 - val_loss: 0.3441 - val_accuracy: 0.8528\n",
      "Epoch 27/100\n",
      "386/386 [==============================] - 1s 2ms/step - loss: 0.3422 - accuracy: 0.8497 - val_loss: 0.3311 - val_accuracy: 0.8599\n",
      "Epoch 28/100\n",
      "386/386 [==============================] - 1s 2ms/step - loss: 0.3465 - accuracy: 0.8478 - val_loss: 0.3465 - val_accuracy: 0.8505\n",
      "Epoch 29/100\n",
      "386/386 [==============================] - 1s 2ms/step - loss: 0.3451 - accuracy: 0.8494 - val_loss: 0.3281 - val_accuracy: 0.8632\n",
      "Epoch 30/100\n",
      "386/386 [==============================] - 1s 2ms/step - loss: 0.3415 - accuracy: 0.8506 - val_loss: 0.3610 - val_accuracy: 0.8369\n",
      "Epoch 31/100\n",
      "386/386 [==============================] - 1s 2ms/step - loss: 0.3412 - accuracy: 0.8544 - val_loss: 0.3393 - val_accuracy: 0.8489\n",
      "Epoch 32/100\n",
      "386/386 [==============================] - 1s 2ms/step - loss: 0.3395 - accuracy: 0.8550 - val_loss: 0.3280 - val_accuracy: 0.8615\n",
      "Epoch 33/100\n",
      "386/386 [==============================] - 1s 2ms/step - loss: 0.3431 - accuracy: 0.8535 - val_loss: 0.3524 - val_accuracy: 0.8492\n",
      "Epoch 34/100\n",
      "386/386 [==============================] - 1s 2ms/step - loss: 0.3405 - accuracy: 0.8531 - val_loss: 0.3492 - val_accuracy: 0.8512\n",
      "Epoch 35/100\n",
      "386/386 [==============================] - 1s 2ms/step - loss: 0.3417 - accuracy: 0.8516 - val_loss: 0.3290 - val_accuracy: 0.8622\n",
      "Epoch 36/100\n",
      "386/386 [==============================] - 1s 2ms/step - loss: 0.3439 - accuracy: 0.8491 - val_loss: 0.3371 - val_accuracy: 0.8531\n",
      "Epoch 37/100\n",
      "386/386 [==============================] - 1s 2ms/step - loss: 0.3387 - accuracy: 0.8534 - val_loss: 0.3395 - val_accuracy: 0.8528\n",
      "Epoch 38/100\n",
      "386/386 [==============================] - 1s 2ms/step - loss: 0.3339 - accuracy: 0.8548 - val_loss: 0.3354 - val_accuracy: 0.8518\n",
      "Epoch 39/100\n",
      "386/386 [==============================] - 1s 2ms/step - loss: 0.3372 - accuracy: 0.8568 - val_loss: 0.3318 - val_accuracy: 0.8583\n",
      "Epoch 40/100\n",
      "386/386 [==============================] - 1s 2ms/step - loss: 0.3401 - accuracy: 0.8540 - val_loss: 0.3246 - val_accuracy: 0.8645\n",
      "Epoch 41/100\n",
      "386/386 [==============================] - 1s 2ms/step - loss: 0.3370 - accuracy: 0.8520 - val_loss: 0.3254 - val_accuracy: 0.8602\n",
      "Epoch 42/100\n",
      "386/386 [==============================] - 1s 2ms/step - loss: 0.3398 - accuracy: 0.8521 - val_loss: 0.3246 - val_accuracy: 0.8645\n",
      "Epoch 43/100\n",
      "386/386 [==============================] - 1s 2ms/step - loss: 0.3371 - accuracy: 0.8509 - val_loss: 0.3363 - val_accuracy: 0.8551\n",
      "Epoch 44/100\n",
      "386/386 [==============================] - 1s 2ms/step - loss: 0.3343 - accuracy: 0.8548 - val_loss: 0.3463 - val_accuracy: 0.8570\n",
      "Epoch 45/100\n",
      "386/386 [==============================] - 1s 2ms/step - loss: 0.3369 - accuracy: 0.8576 - val_loss: 0.3269 - val_accuracy: 0.8573\n",
      "Epoch 46/100\n",
      "386/386 [==============================] - 1s 2ms/step - loss: 0.3338 - accuracy: 0.8550 - val_loss: 0.3270 - val_accuracy: 0.8573\n",
      "Epoch 47/100\n",
      "386/386 [==============================] - 1s 2ms/step - loss: 0.3348 - accuracy: 0.8538 - val_loss: 0.3295 - val_accuracy: 0.8577\n",
      "Epoch 48/100\n",
      "386/386 [==============================] - 1s 2ms/step - loss: 0.3354 - accuracy: 0.8527 - val_loss: 0.3383 - val_accuracy: 0.8541\n",
      "Epoch 49/100\n",
      "386/386 [==============================] - 1s 2ms/step - loss: 0.3319 - accuracy: 0.8560 - val_loss: 0.3242 - val_accuracy: 0.8628\n",
      "Epoch 50/100\n",
      "386/386 [==============================] - 1s 2ms/step - loss: 0.3352 - accuracy: 0.8547 - val_loss: 0.3281 - val_accuracy: 0.8596\n",
      "Epoch 51/100\n",
      "386/386 [==============================] - 1s 2ms/step - loss: 0.3315 - accuracy: 0.8555 - val_loss: 0.3296 - val_accuracy: 0.8564\n",
      "Epoch 52/100\n",
      "386/386 [==============================] - 1s 2ms/step - loss: 0.3348 - accuracy: 0.8552 - val_loss: 0.3247 - val_accuracy: 0.8573\n",
      "Epoch 53/100\n",
      "386/386 [==============================] - 1s 2ms/step - loss: 0.3362 - accuracy: 0.8557 - val_loss: 0.3283 - val_accuracy: 0.8625\n",
      "Epoch 54/100\n",
      "386/386 [==============================] - 1s 2ms/step - loss: 0.3332 - accuracy: 0.8572 - val_loss: 0.3257 - val_accuracy: 0.8602\n",
      "Epoch 55/100\n",
      "386/386 [==============================] - 1s 2ms/step - loss: 0.3337 - accuracy: 0.8537 - val_loss: 0.3568 - val_accuracy: 0.8476\n",
      "Epoch 56/100\n",
      "386/386 [==============================] - 1s 2ms/step - loss: 0.3335 - accuracy: 0.8551 - val_loss: 0.3258 - val_accuracy: 0.8580\n",
      "Epoch 57/100\n",
      "386/386 [==============================] - 1s 2ms/step - loss: 0.3344 - accuracy: 0.8553 - val_loss: 0.3249 - val_accuracy: 0.8589\n",
      "Epoch 58/100\n",
      "386/386 [==============================] - 1s 2ms/step - loss: 0.3330 - accuracy: 0.8573 - val_loss: 0.3333 - val_accuracy: 0.8628\n",
      "Epoch 59/100\n",
      "386/386 [==============================] - 1s 2ms/step - loss: 0.3317 - accuracy: 0.8573 - val_loss: 0.3430 - val_accuracy: 0.8564\n",
      "Epoch 60/100\n",
      "386/386 [==============================] - 1s 2ms/step - loss: 0.3337 - accuracy: 0.8564 - val_loss: 0.3326 - val_accuracy: 0.8541\n",
      "Epoch 61/100\n",
      "386/386 [==============================] - 1s 2ms/step - loss: 0.3344 - accuracy: 0.8534 - val_loss: 0.3462 - val_accuracy: 0.8470\n",
      "Epoch 62/100\n",
      "386/386 [==============================] - 1s 2ms/step - loss: 0.3318 - accuracy: 0.8589 - val_loss: 0.3315 - val_accuracy: 0.8580\n",
      "Epoch 63/100\n",
      "386/386 [==============================] - 1s 2ms/step - loss: 0.3359 - accuracy: 0.8538 - val_loss: 0.3275 - val_accuracy: 0.8557\n",
      "Epoch 64/100\n",
      "386/386 [==============================] - 1s 2ms/step - loss: 0.3309 - accuracy: 0.8580 - val_loss: 0.3268 - val_accuracy: 0.8609\n",
      "Epoch 65/100\n",
      "386/386 [==============================] - 1s 2ms/step - loss: 0.3333 - accuracy: 0.8592 - val_loss: 0.3427 - val_accuracy: 0.8531\n",
      "Epoch 66/100\n",
      "386/386 [==============================] - 1s 2ms/step - loss: 0.3295 - accuracy: 0.8591 - val_loss: 0.3215 - val_accuracy: 0.8606\n",
      "Epoch 67/100\n",
      "386/386 [==============================] - 1s 2ms/step - loss: 0.3309 - accuracy: 0.8582 - val_loss: 0.3407 - val_accuracy: 0.8515\n",
      "Epoch 68/100\n",
      "386/386 [==============================] - 1s 2ms/step - loss: 0.3313 - accuracy: 0.8574 - val_loss: 0.3363 - val_accuracy: 0.8544\n",
      "Epoch 69/100\n",
      "386/386 [==============================] - 1s 2ms/step - loss: 0.3307 - accuracy: 0.8608 - val_loss: 0.3168 - val_accuracy: 0.8583\n",
      "Epoch 70/100\n",
      "386/386 [==============================] - 1s 2ms/step - loss: 0.3300 - accuracy: 0.8594 - val_loss: 0.3234 - val_accuracy: 0.8615\n",
      "Epoch 71/100\n",
      "386/386 [==============================] - 1s 2ms/step - loss: 0.3310 - accuracy: 0.8572 - val_loss: 0.3244 - val_accuracy: 0.8612\n",
      "Epoch 72/100\n",
      "386/386 [==============================] - 1s 2ms/step - loss: 0.3302 - accuracy: 0.8566 - val_loss: 0.3300 - val_accuracy: 0.8547\n",
      "Epoch 73/100\n",
      "386/386 [==============================] - 1s 2ms/step - loss: 0.3290 - accuracy: 0.8581 - val_loss: 0.3174 - val_accuracy: 0.8615\n",
      "Epoch 74/100\n",
      "386/386 [==============================] - 1s 2ms/step - loss: 0.3331 - accuracy: 0.8581 - val_loss: 0.3298 - val_accuracy: 0.8635\n",
      "Epoch 75/100\n",
      "386/386 [==============================] - 1s 2ms/step - loss: 0.3291 - accuracy: 0.8581 - val_loss: 0.3181 - val_accuracy: 0.8645\n",
      "Epoch 76/100\n",
      "386/386 [==============================] - 1s 2ms/step - loss: 0.3314 - accuracy: 0.8580 - val_loss: 0.3284 - val_accuracy: 0.8648\n",
      "Epoch 77/100\n",
      "386/386 [==============================] - 1s 2ms/step - loss: 0.3326 - accuracy: 0.8577 - val_loss: 0.3281 - val_accuracy: 0.8599\n",
      "Epoch 78/100\n",
      "386/386 [==============================] - 1s 2ms/step - loss: 0.3306 - accuracy: 0.8564 - val_loss: 0.3229 - val_accuracy: 0.8586\n",
      "Epoch 79/100\n",
      "386/386 [==============================] - 1s 2ms/step - loss: 0.3286 - accuracy: 0.8587 - val_loss: 0.3200 - val_accuracy: 0.8645\n",
      "Epoch 80/100\n",
      "386/386 [==============================] - 1s 2ms/step - loss: 0.3309 - accuracy: 0.8573 - val_loss: 0.3559 - val_accuracy: 0.8385\n",
      "Epoch 81/100\n",
      "386/386 [==============================] - 1s 2ms/step - loss: 0.3293 - accuracy: 0.8597 - val_loss: 0.3237 - val_accuracy: 0.8570\n",
      "Epoch 82/100\n",
      "386/386 [==============================] - 1s 2ms/step - loss: 0.3291 - accuracy: 0.8578 - val_loss: 0.3171 - val_accuracy: 0.8599\n",
      "Epoch 83/100\n",
      "386/386 [==============================] - 1s 2ms/step - loss: 0.3289 - accuracy: 0.8615 - val_loss: 0.3197 - val_accuracy: 0.8599\n",
      "Epoch 84/100\n",
      "386/386 [==============================] - 1s 2ms/step - loss: 0.3326 - accuracy: 0.8552 - val_loss: 0.3285 - val_accuracy: 0.8577\n",
      "Epoch 85/100\n",
      "386/386 [==============================] - 1s 2ms/step - loss: 0.3292 - accuracy: 0.8591 - val_loss: 0.3340 - val_accuracy: 0.8567\n",
      "Epoch 86/100\n",
      "386/386 [==============================] - 1s 2ms/step - loss: 0.3290 - accuracy: 0.8591 - val_loss: 0.3267 - val_accuracy: 0.8615\n",
      "Epoch 87/100\n",
      "386/386 [==============================] - 1s 2ms/step - loss: 0.3281 - accuracy: 0.8598 - val_loss: 0.3178 - val_accuracy: 0.8671\n",
      "Epoch 88/100\n",
      "386/386 [==============================] - 1s 2ms/step - loss: 0.3297 - accuracy: 0.8597 - val_loss: 0.3435 - val_accuracy: 0.8489\n",
      "Epoch 89/100\n",
      "386/386 [==============================] - 1s 2ms/step - loss: 0.3258 - accuracy: 0.8600 - val_loss: 0.3239 - val_accuracy: 0.8557\n",
      "Epoch 90/100\n",
      "386/386 [==============================] - 1s 2ms/step - loss: 0.3247 - accuracy: 0.8599 - val_loss: 0.3467 - val_accuracy: 0.8466\n",
      "Epoch 91/100\n",
      "386/386 [==============================] - 1s 2ms/step - loss: 0.3294 - accuracy: 0.8621 - val_loss: 0.3226 - val_accuracy: 0.8628\n",
      "Epoch 92/100\n",
      "386/386 [==============================] - 1s 2ms/step - loss: 0.3283 - accuracy: 0.8598 - val_loss: 0.3326 - val_accuracy: 0.8538\n",
      "Epoch 93/100\n",
      "386/386 [==============================] - 1s 2ms/step - loss: 0.3246 - accuracy: 0.8596 - val_loss: 0.3157 - val_accuracy: 0.8654\n",
      "Epoch 94/100\n",
      "386/386 [==============================] - 1s 2ms/step - loss: 0.3261 - accuracy: 0.8617 - val_loss: 0.3186 - val_accuracy: 0.8625\n",
      "Epoch 95/100\n",
      "386/386 [==============================] - 1s 2ms/step - loss: 0.3273 - accuracy: 0.8600 - val_loss: 0.3213 - val_accuracy: 0.8645\n",
      "Epoch 96/100\n",
      "386/386 [==============================] - 1s 2ms/step - loss: 0.3264 - accuracy: 0.8577 - val_loss: 0.3276 - val_accuracy: 0.8625\n",
      "Epoch 97/100\n",
      "386/386 [==============================] - 1s 2ms/step - loss: 0.3265 - accuracy: 0.8611 - val_loss: 0.3365 - val_accuracy: 0.8528\n",
      "Epoch 98/100\n",
      "386/386 [==============================] - 1s 2ms/step - loss: 0.3254 - accuracy: 0.8607 - val_loss: 0.3181 - val_accuracy: 0.8658\n",
      "Epoch 99/100\n",
      "386/386 [==============================] - 1s 2ms/step - loss: 0.3263 - accuracy: 0.8597 - val_loss: 0.3182 - val_accuracy: 0.8664\n",
      "Epoch 100/100\n",
      "386/386 [==============================] - 1s 2ms/step - loss: 0.3249 - accuracy: 0.8612 - val_loss: 0.3373 - val_accuracy: 0.8525\n"
     ]
    }
   ],
   "source": [
    "result_reg=model_reg.fit(X_train_scaled, \n",
    "                 y_train,\n",
    "                 validation_data = (X_test_scaled, y_test), \n",
    "                 epochs=100\n",
    "                 )"
   ]
  },
  {
   "cell_type": "markdown",
   "metadata": {},
   "source": [
    "### Submitted by Vinod Sinha, March 25, 2023\n",
    "## The End! "
   ]
  }
 ],
 "metadata": {
  "kernelspec": {
   "display_name": "Python 3",
   "language": "python",
   "name": "python3"
  },
  "language_info": {
   "codemirror_mode": {
    "name": "ipython",
    "version": 3
   },
   "file_extension": ".py",
   "mimetype": "text/x-python",
   "name": "python",
   "nbconvert_exporter": "python",
   "pygments_lexer": "ipython3",
   "version": "3.7.6"
  }
 },
 "nbformat": 4,
 "nbformat_minor": 4
}
