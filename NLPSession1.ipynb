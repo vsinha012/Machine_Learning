{
 "cells": [
  {
   "cell_type": "markdown",
   "metadata": {},
   "source": [
    "# Natural Language Processing "
   ]
  },
  {
   "cell_type": "markdown",
   "metadata": {},
   "source": [
    "### Interaction between Humans and Machines using NLP\n",
    "#### 1. Human talks to the machine\n",
    "#### 2. Machine Captures the Audio\n",
    "#### 3. Audio to Text Conversion \n",
    "\n",
    "#### 1950 - NLP Started when Alan Turing revealed an articale known as Machine and Intelligence tries to automate translation between Russian and English\n",
    "#### 1960 - The work of the linguistic sceintist Chomskly and others on formal language theory and generative syntax, began. \n",
    "#### 1990 - Probabilistic and data driven models had become quite normal\n",
    "#### 2000 - A large quantity of spoken and textual data became accessible. \n",
    "#### 2010 - Representaiton of learning and deep neural network in natural language processing started. \n",
    "####  \n",
    "#### The context is the heart of NLP\n",
    "#### Sometimes sentence may be correct grammatically but it may not be meaningful.  Example: The Sun rises in the West\" is grammatically correct but is not meaningful.  This is a fact and there are no two opinions about it.  \n",
    "#### This is why NLP becomes complex.  \n",
    "#### \n",
    "### Why do we need NLP?\n",
    "#### 1. NLP is the hallmark of human intelligence. \n",
    "#### 2. Text is the largest repository of human knowledge and is growing quickly. \n",
    "#### 3. NLP represents computer programs that understand text or speech. \n",
    "#### Text could be a review, search, blog, FB post, SMS, videos, books, ticket raised, \n",
    "#### \n",
    "### Need for NLP\n",
    "#### Data coming from facebooks, twitter, instagram, phone call, messages are unstructured.  It is not defined to the pre-defined template. \n",
    "#### "
   ]
  },
  {
   "cell_type": "markdown",
   "metadata": {},
   "source": [
    "### How does NLP work?\n",
    "#### 1. Sequence Preprocessing\n",
    "#### 2. Text to Features\n",
    "#### 3. Usage of NLP Models\n",
    "#### 4. Usage of NLP Libraries\n",
    "#### \n",
    "### Different Aspects of NLP\n",
    "#### 1. NLP is the ability of a computer to analyze, understand, and generate human languages. \n",
    "#### 2. A language is a system, a set of rules or set of symbols\n",
    "#### 3. Symbols are combined and used for conveying information or broadcasting the information \n",
    "#### 4. In NLP, rules of grammar are used for handling symbols. \n",
    "#### 5. NLP is a component of artificial intelligence. \n",
    "#### \n",
    "### Categories of NLP\n",
    "#### 1. Rule-Based NLP \n",
    "####  a. Designed by creating a set of rules\n",
    "####  b. Developed by heuristic rules (trial and error)\n",
    "#### 2. Statistical NLP\n",
    "####  a. Relies heavily on machine learning\n",
    "####  b. Applies automatic learning procedure (Predominantly Training Data)\n",
    "#### Rule Based NLP transforms through Statistical Revolution into Statistical NLP\n",
    "#### Statistical NLP "
   ]
  },
  {
   "cell_type": "markdown",
   "metadata": {},
   "source": [
    "### Techniques used in NLP\n",
    "#### 1. Syntactic Analysis\n",
    "####   a. Focuses on arrangement of words\n",
    "####   b. Aligns with grammatical rules. \n",
    "#### 2. Semantic Analysis\n",
    "####   a. Meaning of a text\n",
    "####   b. Sentence strcuture understanding\n",
    "####   c. Interpretation of words\n",
    "#### "
   ]
  },
  {
   "cell_type": "markdown",
   "metadata": {},
   "source": [
    "### Components of Natural Language Processing\n",
    "#### 1. Natural Language Understanding (NLU)\n",
    "####   a. Read & understand data\n",
    "#### 2. Natural Language Generation (NLG)\n",
    "####   a. Interpretation of data\n",
    "#### \n",
    "### Taking some sentences and finding out what they mean\n",
    "#### 1. Taking some formal representation of what you want to say and working out a way to express it in a natural language. \n",
    "#### 2. Mapping the given input in the natural language with a useful representation\n",
    "#### 3. Producing output in the natural language from some internal representation \n",
    "#### 4. Different level of analysis: morphological analysis, syntactic analysis, semantic analsysi, and discourse analysis\n",
    "#### \n",
    "#### Use of NLP in Conversational Bot in Each Step\n",
    "#### 1. Users Request\n",
    "#### 2. Intent Identification\n",
    "#### 3. Entity Extraction\n",
    "#### 4. Content Management, History Processing, Session Management\n",
    "#### Above are part of Natural Language Understanding\n",
    "#### 5. Response Generation: An example of Natural Language Generation\n",
    "#### \n",
    "### Applications using NLP\n",
    "#### 1. Speech Recognition\n",
    "#### 2. Machine Translation\n",
    "#### 3. Chatbot\n",
    "#### 4. Information Retreival\n",
    "#### 5. Information Extraction \n",
    "#### 6. Chatbot\n",
    "#### 7. Product Ordering\n",
    "#### 8. Generate Actionable Insight from Huge Amount of Review or Feedback\n",
    "#### \n",
    "### NLP in Real-Life: Speech Recognition\n",
    "#### Google Assistant\n",
    "#### Siri\n",
    "#### Alexa\n",
    "#### Cortana\n",
    "#### Google Translator\n",
    "#### ChatBot\n",
    "#### Bard\n",
    "#### Uber\n",
    "#### \n",
    "### NLP in Real-Life: Information Retreival\n",
    "#### Find information according to the given query\n",
    "#### NLP Techniques users in IR are\n",
    "####   a. Stemming\n",
    "####   b. Part-of-Speech Tagging\n",
    "####   c. Compound Recognition\n",
    "####   d. Decompounding\n",
    "####   e. Chunking\n",
    "####   f. Word-sense Disambiguous\n",
    "### NLP in Real-Life: Information Extraction\n",
    "#### Automatic extraction of structured information from unstrcutured or semi-structured machine readable documents\n",
    "#### Blog Post - Title, Author, Text, Media, etc. \n",
    "#### It is a process that includes raw text (string), sentence segmentation, tokenization, parts of speech tagging, entity recognition, relation recognition, relations (list of tuples)\n",
    "#### \n",
    "### NLP in Real-Life: Question Answering\n",
    "#### System that automatically answer questions\n",
    "### NLP in Real-Life: Spell Check\n",
    "#### Salesforce implemented spell check in the contact forms using NLP. \n",
    "#### \n",
    "### NLP in Real-Life: Sentiment Analysis\n",
    "#### \n",
    "#### \n",
    "#### Why NLP is Difficult? \n",
    "#### Nature of Human Language: Rules that dictate the passing of information using natural languages are not easy for computers to understand. \n",
    "#### Human Language is unstrcutured data: Only 21% the data is structured data, and a lot of information in the world is unstrcutured. \n",
    "#### Tough to extract meaning from text: Process of reading and understanding English is very complex. \n",
    "#### "
   ]
  },
  {
   "cell_type": "code",
   "execution_count": 7,
   "metadata": {},
   "outputs": [],
   "source": [
    "import nltk\n",
    "from nltk import sent_tokenize"
   ]
  },
  {
   "cell_type": "code",
   "execution_count": 8,
   "metadata": {},
   "outputs": [],
   "source": [
    "# Split into sentences\n",
    "#sentences = sent_tokenize(text)\n",
    "#print(sentences(8)"
   ]
  },
  {
   "cell_type": "code",
   "execution_count": 14,
   "metadata": {},
   "outputs": [
    {
     "data": {
      "text/plain": [
       "['WELCOME', 'TO', 'THE', 'NLP', 'TRAINING', 'SESSIONS!']"
      ]
     },
     "execution_count": 14,
     "metadata": {},
     "output_type": "execute_result"
    }
   ],
   "source": [
    "str1 = 'WELCOME TO THE NLP TRAINING SESSIONS!'\n",
    "str1.split()"
   ]
  },
  {
   "cell_type": "code",
   "execution_count": 15,
   "metadata": {},
   "outputs": [],
   "source": [
    "from nltk.tokenize import word_tokenize"
   ]
  },
  {
   "cell_type": "code",
   "execution_count": 16,
   "metadata": {},
   "outputs": [
    {
     "data": {
      "text/plain": [
       "['WELCOME', 'TO', 'THE', 'NLP', 'TRAINING', 'SESSIONS', '!']"
      ]
     },
     "execution_count": 16,
     "metadata": {},
     "output_type": "execute_result"
    }
   ],
   "source": [
    "word_tokenize(str1)"
   ]
  },
  {
   "cell_type": "code",
   "execution_count": 18,
   "metadata": {},
   "outputs": [],
   "source": [
    "str2 = 'WELCOME TO THE NLP TRAINING SESSIONS! YOU WILL BE LEARNING NLP'"
   ]
  },
  {
   "cell_type": "code",
   "execution_count": 19,
   "metadata": {},
   "outputs": [
    {
     "data": {
      "text/plain": [
       "['WELCOME TO THE NLP TRAINING SESSIONS!', 'YOU WILL BE LEARNING NLP']"
      ]
     },
     "execution_count": 19,
     "metadata": {},
     "output_type": "execute_result"
    }
   ],
   "source": [
    "from nltk.tokenize import sent_tokenize\n",
    "sent_tokenize(str2)"
   ]
  },
  {
   "cell_type": "code",
   "execution_count": 22,
   "metadata": {},
   "outputs": [
    {
     "data": {
      "text/plain": [
       "[('WELCOME', 'TO'),\n",
       " ('TO', 'THE'),\n",
       " ('THE', 'NLP'),\n",
       " ('NLP', 'TRAINING'),\n",
       " ('TRAINING', 'SESSIONS!')]"
      ]
     },
     "execution_count": 22,
     "metadata": {},
     "output_type": "execute_result"
    }
   ],
   "source": [
    "str3 = 'WELCOME TO THE NLP TRAINING SESSIONS!'\n",
    "bg=list(nltk.bigrams(str3.split()))\n",
    "bg"
   ]
  },
  {
   "cell_type": "code",
   "execution_count": null,
   "metadata": {},
   "outputs": [],
   "source": [
    "# Unigram means breaking sentence one word by one \n",
    "# Bigrams means breaking sentenc two words at a time. "
   ]
  }
 ],
 "metadata": {
  "kernelspec": {
   "display_name": "Python 3",
   "language": "python",
   "name": "python3"
  },
  "language_info": {
   "codemirror_mode": {
    "name": "ipython",
    "version": 3
   },
   "file_extension": ".py",
   "mimetype": "text/x-python",
   "name": "python",
   "nbconvert_exporter": "python",
   "pygments_lexer": "ipython3",
   "version": "3.7.6"
  }
 },
 "nbformat": 4,
 "nbformat_minor": 4
}
