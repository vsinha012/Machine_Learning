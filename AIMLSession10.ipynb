{
 "cells": [
  {
   "cell_type": "markdown",
   "metadata": {},
   "source": [
    "## Unsupervised Learning"
   ]
  },
  {
   "cell_type": "markdown",
   "metadata": {},
   "source": [
    "### Machine Learning Data Type\n",
    "### Machine Learning Type: Supervised and Unsupervised\n",
    "### "
   ]
  },
  {
   "cell_type": "markdown",
   "metadata": {},
   "source": [
    "### Clustering Methods\n",
    "#### Goal of clustering is to GROUP SIMILAR DATA POINTS into clusters. \n",
    "#### K-Means Clustering can help you discover clusters in the feature set. Here K is Hyperparameter i.e. number of Clusters which is fed by the ML engineer.  Which raises question as how we tell how many cluster I feel in the dataset. So everything happens here is a guess work. \n",
    "#### However there is a logical method by which K can be guessed or identified by using ELBOW method. \n",
    "#### Mindset of an ML engineer for this use case will be \n",
    "##### 1. Identify the value of 'K'\n",
    "#####  1.a. Guess\n",
    "#####  1.b. Elbow Method\n",
    "##### 2. Discover groups"
   ]
  },
  {
   "cell_type": "code",
   "execution_count": null,
   "metadata": {},
   "outputs": [],
   "source": []
  }
 ],
 "metadata": {
  "kernelspec": {
   "display_name": "Python 3",
   "language": "python",
   "name": "python3"
  },
  "language_info": {
   "codemirror_mode": {
    "name": "ipython",
    "version": 3
   },
   "file_extension": ".py",
   "mimetype": "text/x-python",
   "name": "python",
   "nbconvert_exporter": "python",
   "pygments_lexer": "ipython3",
   "version": "3.7.6"
  }
 },
 "nbformat": 4,
 "nbformat_minor": 4
}
