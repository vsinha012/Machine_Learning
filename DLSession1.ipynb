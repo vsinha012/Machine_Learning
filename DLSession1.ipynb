{
 "cells": [
  {
   "cell_type": "code",
   "execution_count": 1,
   "metadata": {},
   "outputs": [],
   "source": [
    "# Convolutional Neural Network (CNN)\n",
    "# Recurrent Neural Network (RNN)\n",
    "# Sequential Data - Stock Prices, DNA, Messages, Weather Data, COVID, etc. \n",
    "# General Process Transformers - These are Covered in Advanced Neural Network \n",
    "# Project - Lending Club Loan Data Analysis\n",
    "# PubG Players Project is for Practice Only\n",
    "# Attend all the Live Virtual Classes in a Batch\n",
    "# Submit at least one project\n",
    "# Score a minimum of 75% in course end assessment"
   ]
  },
  {
   "cell_type": "markdown",
   "metadata": {},
   "source": [
    "### Introduction to AI and Deep Learning"
   ]
  },
  {
   "cell_type": "markdown",
   "metadata": {},
   "source": [
    "#### AI is a branch of computer science that attempts to stimulate human intelligence in machine. \n",
    "#### When you look at a pit, you do not measure the width or depth of it, you make the decision instantly whether you can jump or not.  If you can jump then you jump otherwise you can walk around it. \n",
    "#### Similarly when you see a tree, you immediately make the decision if it is a mango tree or banana tree.  \n",
    "#### AI is a branch of computer science.  We will not look at mean, median, or statistics.  \n",
    "\n",
    "#### Characteristics of AI\n",
    "#### 1. Learn: Acquire data and rules\n",
    "#### 2. Self Correct: Correct itself without external assistance\n",
    "#### 3. Reason: Draw conclusions using the rules \n",
    "\n",
    "#### Movie: Imitation Game\n",
    "#### DARPA - Defense Advanced Research Project Agency\n",
    "#### DARPA developed computer solved algebra word problems, proved theorems, and learned to talk English.\n",
    "\n",
    "#### 1986: Rise of Machine Learning: Neural Network Return to Popularity, Majority Advances in ML Aglorithms and Applications\n",
    "#### 1995: AI as Science: Vision Language, and Information Mining Techniques gain popularity. \n",
    "#### 2006: Face Recognition: Consumer cameras offer face recognition software\n",
    "\n",
    "#### AlphaGo by DeepMind: Game called Go, Go Zero.  Movie: AlphaGo\n",
    "\n",
    "#### DeepMind released the program AlphaFold\n",
    "\n",
    "#### Da Vinci Surgical Systems\n",
    "#### Pepper\n",
    "#### \n",
    "\n",
    "#### Some problems best suited for AI to solve\n",
    "#### 1. Repetitive Tasks\n",
    "#### 2. Data Intensive Tasks\n",
    "#### 3. Superhuman Tasks\n",
    "\n",
    "#### Advantages of AI\n",
    "#### 1. Error Reduction\n",
    "#### 2. Digital Assistants\n",
    "#### 3. Difficult Explorations\n",
    "#### 4. Medical Applications\n",
    "#### 5. Repetitive Jobs\n",
    "#### 6. No Breaks: Mahines unlike humans don't need to sleep, rest, take breaks, or get entertained. \n",
    "\n",
    "#### Limitation of AI\n",
    "#### 1. Very challenging to capture all traits of human intelligence\n",
    "#### 2. Current focus of development lies with lucrative domain specific applications\n",
    "#### 3. Limited ability with respect to the diversity of domain problems\n",
    "#### 4. Unpredictability or failure in emergency situations\n",
    "#### 5. High cost for R&D and production\n",
    "\n"
   ]
  },
  {
   "cell_type": "markdown",
   "metadata": {},
   "source": [
    "### Machine Learning\n",
    "#### 1. Supervised Learning\n",
    "#### 2. Unsupervised Learning\n",
    "#### 3. Reinforcements"
   ]
  },
  {
   "cell_type": "markdown",
   "metadata": {},
   "source": [
    "## Reinforcement Learning\n",
    "\n",
    "#### Learn by trial and error mechanism , goal oriented approach. \n",
    "#### Example: Trading \n"
   ]
  },
  {
   "cell_type": "markdown",
   "metadata": {},
   "source": [
    "## Deep Learning \n",
    "#### Deep Learning uses neural networks to make predictions independent of human intervention whereas human intervention is required in Machine Learning to arrive at the optimal outcome\n",
    "\n",
    "#### Deep Learning is same as Neural Network"
   ]
  },
  {
   "cell_type": "markdown",
   "metadata": {},
   "source": [
    "#### Deep Learning Modles utilize artificial neural network (ANN) that are inspired by the biological neural network of the human brain\n",
    "\n",
    "#### Neural Network is composed of Layers\n",
    "#### 1. Input Layer is the first layer; input as features.\n",
    "#### 2. Output Layer is the last layer\n",
    "#### 3. Hiddle Layers have lots of layers in between. As data scientists, we make the decision as how many layers are required to build. \n",
    "\n",
    "#### Each layer is composed of neurons.  Number of neurons is equal to number of features. \n",
    "#### \n",
    "\n",
    "#### Deep Learning has gained popularity recently.  ChatGPT is an example of deep learning. \n",
    "#### ImageNet: 14 Million Labeled Images"
   ]
  },
  {
   "cell_type": "markdown",
   "metadata": {},
   "source": [
    "## Applications of Deep Learning\n",
    "\n",
    "#### 1. Computer Vision: Facial Recognition, Augmented Reality, Gesture Recognition, Image Classification\n",
    "#### 2. Social Network Filtering: y\n",
    "#### 3. Gaming\n",
    "#### 4. Machine Translation \n",
    "#### 5. Healthcare\n",
    "#### 6. Self-Driving\n"
   ]
  },
  {
   "cell_type": "markdown",
   "metadata": {},
   "source": [
    "## Challenges of Deep Learning\n",
    "#### 1. For smaller data sets, it is better to go with the machine learning models. \n",
    "#### 2. Humans can learn from very few examples\n",
    "#### 3. Machines need millions of examples to determine \n",
    "#### 4. Understanding the context very well is a challenge as it lacks pure perception\n",
    "#### 5. Neural Networks are also known as blackbox model - it is difficult to predict the output because the neural network determines the rule.  In many countries, if a machine is determining the outcome then by law, it has to explain why the model took a particular decision. \n",
    "\n"
   ]
  }
 ],
 "metadata": {
  "kernelspec": {
   "display_name": "Python 3",
   "language": "python",
   "name": "python3"
  },
  "language_info": {
   "codemirror_mode": {
    "name": "ipython",
    "version": 3
   },
   "file_extension": ".py",
   "mimetype": "text/x-python",
   "name": "python",
   "nbconvert_exporter": "python",
   "pygments_lexer": "ipython3",
   "version": "3.7.6"
  }
 },
 "nbformat": 4,
 "nbformat_minor": 4
}
